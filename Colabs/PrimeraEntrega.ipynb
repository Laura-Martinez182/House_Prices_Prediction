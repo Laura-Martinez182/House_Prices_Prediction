{
  "cells": [
    {
      "cell_type": "markdown",
      "metadata": {
        "id": "18lWbGpVySM1"
      },
      "source": [
        "# **Predicción de los precios de propiedades en Colombia**\n",
        "Laura Martínez y Diana Olano"
      ],
      "id": "18lWbGpVySM1"
    },
    {
      "cell_type": "markdown",
      "metadata": {
        "id": "RKemiAOy0INH"
      },
      "source": [
        "# **Entendimiento del negocio**\n",
        "\n",
        "---\n",
        "\n",
        "\n",
        "### **1. Objetivos del negocio**\n",
        "\n",
        "1. **Contexto**\n",
        "\n",
        "   Las agencias de bienes raíces presentan una oportunidad para predecir hacia dónde se están moviendo los precios de las propiedades.\n",
        "  \n",
        "  Los precios de las propiedades son un buen indicador tanto de la condición general del mercado como de la salud económica de un país.\n",
        "2. **Objetivos del negocio**\n",
        " - Convertir a la empresa de inmobiliaria en líder del mercado a través de ventas y adquisiciones exitosas de propiedades, gracias a la implementación de una estrategia precisa de evaluación de precios que aumente la confianza de los clientes.\n",
        " - Implementar un sistema preciso de predicción de precios de propiedades para mejorar la ventaja competitiva de la empresa de inmobiliaria en el mercado.\n",
        " - Mejorar la eficiencia en la venta de propiedades mediante la reducción del tiempo de venta.\n",
        " \n",
        "3. **Indicadores de éxito**\n",
        "\n",
        " - El porcentaje de predicción exitosa es mayor al 90%.  \n",
        " -  Porcentaje de satisfacción de los clientes con el precio propuesto.\n",
        "\n",
        "### **2. Situación de los datos**\n",
        "\n",
        "1. **Inventario de los recursos**\n",
        " - **Recursos humanos:** expertos en bienes raíces, expertos en datos, apoyo técnico, personal de extracción de datos, entre otros.\n",
        " - **Datos:** datos preparados y actualizados con los precios del mercado, acceso a datos en tiempo real.\n",
        " - **Recursos informáticos:** plataformas de hardware y\n",
        "herramientas de minería de datos u otros softwares relevantes.\n",
        "\n",
        "2. **Requerimientos, supuestos y limitaciones**\n",
        "\n",
        "- **Supuestos**\n",
        "\n",
        " - Se cree en la veracidad y completitud de los datos\n",
        " - Se consideran factores externos (competitividad en el mercado)\n",
        " - Se presentan los resultados de manera gráfica, pero no se pretende explicar el funcionamiento del modelo\n",
        "\n",
        "- **Restricciones**\n",
        "\n",
        " - Restricciones legales\n",
        " - Derechos de acceso a fuentes de datos\n",
        " - Acceso técnico a los datos (formato de la base de datos)\n",
        " - Costos de implementación\n",
        "\n",
        "3. **Riesgos e imprevistos**\n",
        "\n",
        " - **Riesgos de planificación:** el proyecto puede tomar más tiempo del anticipado o puede que no se cuente con los recursos para desarrollar el proyecto.\n",
        " - **Riesgos financieros:** problemas de presupuesto.\n",
        " - **Riesgos en los datos:** problemas de calidad o de cobertura. Posible pérdida de información.\n",
        " - **Riesgos técnicos:** relacionados con la tecnología y algoritmos implementados.\n",
        "\n",
        "4. **Terminología**\n",
        "\n",
        "- **Del negocio**\n",
        "  \n",
        " - **Agencia de bienes raíces:** se refiere a una empresa que se dedica a la compra, venta, alquiler y gestión de propiedades.\n",
        " - **Valor del mercado:** se refiere al valor estimado de una propiedad según las condiciones actuales del mercado.\n",
        " - **Valoración de la propiedad:** se refiere al proceso de determinar el valor de una propiedad.\n",
        " - **Propiedad:** se refiere a un inmueble, ya sea una casa, apartamento, edificio comercial, terreno, entre otros.\n",
        " - **Valor de la propiedad:** se refiere al valor monetario de la propiedad, incluyendo la estructura, el terreno y otros elementos asociados con la propiedad.\n",
        " - **Valor de la propiedad:** se refiere al valor monetario de la propiedad, incluyendo la estructura, el terreno y otros elementos asociados con la propiedad.\n",
        " - **Índice de precios de bienes raíces:** se refiere a un indicador que mide los cambios en los precios de las propiedades a lo largo del tiempo.\n",
        " \n",
        "- **De la minería de datos**\n",
        "  \n",
        "  - **Aprendizaje supervisado:** conjunto de técnicas en las que el análisis utiliza una variable dependiente bien definida (conocida).\n",
        "  - **Análisis exploratorio de datos:** Uso de técnicas estadísticas tanto gráficas como descriptivas para aprender acerca de la estructura de un conjunto de datos.\n",
        "  - **Conjunto de datos:** se refiere al conjunto completo de datos que se utilizarán para entrenar y validar el modelo de machine learning.\n",
        "  - **limpieza:** Se refiere a un paso en la preparación de datos para una actividad de minería de datos. Los errores de datos evidentes se detectan y corrigen.\n",
        "  - **Selección de características:** se refiere al proceso de seleccionar las variables o características que serán utilizadas para entrenar el modelo de machine learning.\n",
        "  - **Entrenamiento del modelo:** se refiere al proceso de ajustar los parámetros del modelo utilizando el conjunto de datos de entrenamiento.\n",
        "  - **Matriz de confusión:** una matriz de confusión muestra los recuentos de los valores de clase reales frente a los previstos.\n",
        "  - **Validación cruzada:** método para estimar la precisión de un modelo de clasificación o regresión.\n",
        "  - **Formato de datos:** se refiere a la forma de los datos en la base de datos.\n",
        "  - **Grado de ajuste:** se refiere a qué tan cerca se ajusta el modelo a los datos de entrenamiento.\n",
        "  - **Variable independiente:** se refiere a las variables utilizadas en la ecuación o reglas del modelo para predecir la variable de salida.\n",
        "  - **Variable dependiente:** son las variables cuyo valor o resultado se está tratando de predecir o explicar en función de otras variables en el modelo.\n",
        "  - **Datos perdidos:** los valores de los datos pueden faltar porque no se midieron, no se respondieron, se desconocían o se perdieron.\n",
        "  - **Modelo:** es una función matemática que utiliza datos históricos para predecir o clasificar nuevos datos.\n",
        "  - **Ruido:** la diferencia entre un modelo y sus predicciones.\n",
        "  - **Visualización:** muestran gráficamente los datos para facilitar una mejor comprensión de su significado.\n",
        "  - **Validación:** proceso de probar el modelo con un conjunto de datos diferente del conjunto de datos de entrenamiento.\n",
        "  - **Datos de entrenamiento:** conjunto de datos utilizado para estimar o entrenar un modelo.\n",
        "  - **Datos de prueba:** conjunto de datos independiente del conjunto de datos de entrenamiento, utilizado para ajustar las estimaciones de los parámetros del modelo.\n",
        "\n",
        "5. **Costos y beneficios**\n",
        "- **Obtención de datos:** Los datos del dataset de Properati Data no tienen ningún costo. \n",
        "- **Beneficios**\n",
        "  - Ayudar a los compradores y vendedores a tomar decisiones más informadas y racionales sobre el valor de una propiedad.\n",
        "  - Mejorar la eficiencia del mercado al reducir las distorsiones de precios.\n",
        "  - Aumentar la transparencia y la confianza en el sector inmobiliario al proporcionar datos más precisos y actualizados.\n",
        "\n",
        "\n",
        "### **3. Objetivos del procesamiento de datos**\n",
        "1.  **Objetivos del procesamiento de datos**\n",
        " - Identificar los factores que juegan un papel clave para decidir el precio de una casa/propiedad.\n",
        " - Predecir el precio de una propiedad considerando los factores clave.\n",
        "\n",
        "2. **Indicadores de éxito**\n",
        "\n",
        " - Cuanto mayor sea la precisión del resultado que se quiere predecir, mejor será el modelo. Se tomará un porcentaje de presición del 90%.\n",
        " - Confiabilidad del modelo para producir resultados coherentes y precisos en diferentes conjuntos de datos. Se tomará un porcentaje de confiabilidad del 95%.\n",
        " - Un error de validación cruzada bajo indica que el modelo es capaz de generalizar bien.\n",
        " - Un modelo con una tasa baja de falsos positivos/negativos es más confiable y preciso.\n",
        "\n",
        "### **4. Plan del proyecto**\n",
        "1. **Plan**\n",
        "\n",
        "  - **Fase 1: Entendimiento del negocio**\n",
        "  - Tiempo: 2 semanas\n",
        "  - Recursos: Todos los analistas\n",
        "  - Riesgos: Cambios propios del contexto del negocio\n",
        "\n",
        "  ---\n",
        "\n",
        "  - **Fase 2: Entendimiento de los datos**\n",
        "  - Tiempo: 4 semanas\n",
        "  - Recursos: Todos los analistas\n",
        "  - Riesgos: Problemas con los datos\n",
        "\n",
        "  ---\n",
        "\n",
        "  - **Fase 3: Preparación de los datos**\n",
        "  - Tiempo: 9 semanas\n",
        "  - Recursos: Ingenieros de machine learning\n",
        "  - Riesgos: Problemas con los datos\n",
        "\n",
        "  ---\n",
        "\n",
        "  - **Fase 4: Modelado**\n",
        "  - Tiempo: 2 semanas\n",
        "  - Recursos: Ingenieros de machine learning\n",
        "  - Riesgos: Dificultad para encontrar el modelo adecuado\n",
        "\n",
        "  ---\n",
        "\n",
        "  - **Fase 5: Evaluación**\n",
        "  - Tiempo: 3 semanas\n",
        "  - Recursos: Todos los analistas\n",
        "  - Riesgos: Dificultad para implementar resultados\n",
        "\n",
        "  ---\n",
        "\n",
        "  - **Fase 6: Despliegue**\n",
        "  - Tiempo: 2 semanas\n",
        "  - Recursos: Ingenieros de machine learning\n",
        "  - Riesgos: Dificultad para implementar los resultados obtenidos\n",
        "\n",
        "2. **Herramientas y técnicas**\n",
        "  - Implementación de algoritmos de predicción, tales como\n",
        "  Regresión lineal, Regresión logística, Bosques aleatorios (Random forest), entre otros.\n",
        "  - Librerías de Python tales como pandas, numpy, etc.\n",
        "  - Equipos de cómputo con capacidad suficiente en los que se\n",
        "  pueda ejecutar el código respectivo para el análisis de los\n",
        "  datos.\n",
        "  - Implementación de herramientas de versionamiento tales\n",
        "  como Github."
      ],
      "id": "RKemiAOy0INH"
    },
    {
      "cell_type": "markdown",
      "metadata": {
        "id": "5Pk__Bwng9EU"
      },
      "source": [
        "## **Pregunta de interés**\n",
        "\n",
        "---\n",
        " -  ¿Cuáles son los factores con mayor influencia al establecer los precios de propiedades en Colombia durante el periodo de 2023?\n",
        "\n",
        "## **Necesidades del negocio**\n",
        "\n",
        "---\n",
        "\n",
        "- Predecir tendencias del mercado con el fin de obtener información valiosa para la toma de decisiones a largo plazo.\n",
        "- Ahorrar tiempo y recursos\n",
        "- Identificar oportunidades de inversión \n",
        "\n",
        "\n",
        "## **Usuarios potenciales de la solución desplegada** \n",
        "\n",
        "---\n",
        "\n",
        " - Los agentes inmobiliarios que quieren estimar el valor de mercado de una propiedad o encontrar las mejores ofertas para sus clientes.\n",
        " - Los inversores que quieren analizar las tendencias del mercado y las oportunidades de inversión en el sector inmobiliario.\n",
        " - Los propietarios que quieren vender o alquilar sus propiedades y conocer el precio justo.\n",
        " - Los compradores que quieren encontrar la propiedad ideal para sus necesidades y presupuesto."
      ],
      "id": "5Pk__Bwng9EU"
    },
    {
      "cell_type": "markdown",
      "metadata": {
        "id": "06EL2B7L0N85"
      },
      "source": [
        "# **Entendimiento de los datos**\n"
      ],
      "id": "06EL2B7L0N85"
    },
    {
      "cell_type": "code",
      "execution_count": null,
      "metadata": {
        "id": "ede2d69e"
      },
      "outputs": [],
      "source": [
        "# Importar librería\n",
        "import pandas as pd\n",
        "import numpy as np\n",
        "import matplotlib.pyplot as plt\n",
        "import seaborn as sns\n",
        "import seaborn as sb"
      ],
      "id": "ede2d69e"
    },
    {
      "cell_type": "markdown",
      "metadata": {
        "id": "yy2Ve5hu_-n2"
      },
      "source": [
        "## **Importar el dataset desde Kaggle**"
      ],
      "id": "yy2Ve5hu_-n2"
    },
    {
      "cell_type": "code",
      "execution_count": null,
      "metadata": {
        "id": "uVp50exPvw9Q"
      },
      "outputs": [],
      "source": [
        "# Instalar Kaggle\n",
        "#!pip install -q kaggle"
      ],
      "id": "uVp50exPvw9Q"
    },
    {
      "cell_type": "code",
      "execution_count": null,
      "metadata": {
        "colab": {
          "base_uri": "https://localhost:8080/",
          "height": 110
        },
        "id": "CgnayqzmwclR",
        "outputId": "99e5f3d8-a5bd-4a02-9f0b-576f26983520"
      },
      "outputs": [
        {
          "output_type": "display_data",
          "data": {
            "text/plain": [
              "<IPython.core.display.HTML object>"
            ],
            "text/html": [
              "\n",
              "     <input type=\"file\" id=\"files-9556ac1e-db6a-461f-a9d0-878e26518138\" name=\"files[]\" multiple disabled\n",
              "        style=\"border:none\" />\n",
              "     <output id=\"result-9556ac1e-db6a-461f-a9d0-878e26518138\">\n",
              "      Upload widget is only available when the cell has been executed in the\n",
              "      current browser session. Please rerun this cell to enable.\n",
              "      </output>\n",
              "      <script>// Copyright 2017 Google LLC\n",
              "//\n",
              "// Licensed under the Apache License, Version 2.0 (the \"License\");\n",
              "// you may not use this file except in compliance with the License.\n",
              "// You may obtain a copy of the License at\n",
              "//\n",
              "//      http://www.apache.org/licenses/LICENSE-2.0\n",
              "//\n",
              "// Unless required by applicable law or agreed to in writing, software\n",
              "// distributed under the License is distributed on an \"AS IS\" BASIS,\n",
              "// WITHOUT WARRANTIES OR CONDITIONS OF ANY KIND, either express or implied.\n",
              "// See the License for the specific language governing permissions and\n",
              "// limitations under the License.\n",
              "\n",
              "/**\n",
              " * @fileoverview Helpers for google.colab Python module.\n",
              " */\n",
              "(function(scope) {\n",
              "function span(text, styleAttributes = {}) {\n",
              "  const element = document.createElement('span');\n",
              "  element.textContent = text;\n",
              "  for (const key of Object.keys(styleAttributes)) {\n",
              "    element.style[key] = styleAttributes[key];\n",
              "  }\n",
              "  return element;\n",
              "}\n",
              "\n",
              "// Max number of bytes which will be uploaded at a time.\n",
              "const MAX_PAYLOAD_SIZE = 100 * 1024;\n",
              "\n",
              "function _uploadFiles(inputId, outputId) {\n",
              "  const steps = uploadFilesStep(inputId, outputId);\n",
              "  const outputElement = document.getElementById(outputId);\n",
              "  // Cache steps on the outputElement to make it available for the next call\n",
              "  // to uploadFilesContinue from Python.\n",
              "  outputElement.steps = steps;\n",
              "\n",
              "  return _uploadFilesContinue(outputId);\n",
              "}\n",
              "\n",
              "// This is roughly an async generator (not supported in the browser yet),\n",
              "// where there are multiple asynchronous steps and the Python side is going\n",
              "// to poll for completion of each step.\n",
              "// This uses a Promise to block the python side on completion of each step,\n",
              "// then passes the result of the previous step as the input to the next step.\n",
              "function _uploadFilesContinue(outputId) {\n",
              "  const outputElement = document.getElementById(outputId);\n",
              "  const steps = outputElement.steps;\n",
              "\n",
              "  const next = steps.next(outputElement.lastPromiseValue);\n",
              "  return Promise.resolve(next.value.promise).then((value) => {\n",
              "    // Cache the last promise value to make it available to the next\n",
              "    // step of the generator.\n",
              "    outputElement.lastPromiseValue = value;\n",
              "    return next.value.response;\n",
              "  });\n",
              "}\n",
              "\n",
              "/**\n",
              " * Generator function which is called between each async step of the upload\n",
              " * process.\n",
              " * @param {string} inputId Element ID of the input file picker element.\n",
              " * @param {string} outputId Element ID of the output display.\n",
              " * @return {!Iterable<!Object>} Iterable of next steps.\n",
              " */\n",
              "function* uploadFilesStep(inputId, outputId) {\n",
              "  const inputElement = document.getElementById(inputId);\n",
              "  inputElement.disabled = false;\n",
              "\n",
              "  const outputElement = document.getElementById(outputId);\n",
              "  outputElement.innerHTML = '';\n",
              "\n",
              "  const pickedPromise = new Promise((resolve) => {\n",
              "    inputElement.addEventListener('change', (e) => {\n",
              "      resolve(e.target.files);\n",
              "    });\n",
              "  });\n",
              "\n",
              "  const cancel = document.createElement('button');\n",
              "  inputElement.parentElement.appendChild(cancel);\n",
              "  cancel.textContent = 'Cancel upload';\n",
              "  const cancelPromise = new Promise((resolve) => {\n",
              "    cancel.onclick = () => {\n",
              "      resolve(null);\n",
              "    };\n",
              "  });\n",
              "\n",
              "  // Wait for the user to pick the files.\n",
              "  const files = yield {\n",
              "    promise: Promise.race([pickedPromise, cancelPromise]),\n",
              "    response: {\n",
              "      action: 'starting',\n",
              "    }\n",
              "  };\n",
              "\n",
              "  cancel.remove();\n",
              "\n",
              "  // Disable the input element since further picks are not allowed.\n",
              "  inputElement.disabled = true;\n",
              "\n",
              "  if (!files) {\n",
              "    return {\n",
              "      response: {\n",
              "        action: 'complete',\n",
              "      }\n",
              "    };\n",
              "  }\n",
              "\n",
              "  for (const file of files) {\n",
              "    const li = document.createElement('li');\n",
              "    li.append(span(file.name, {fontWeight: 'bold'}));\n",
              "    li.append(span(\n",
              "        `(${file.type || 'n/a'}) - ${file.size} bytes, ` +\n",
              "        `last modified: ${\n",
              "            file.lastModifiedDate ? file.lastModifiedDate.toLocaleDateString() :\n",
              "                                    'n/a'} - `));\n",
              "    const percent = span('0% done');\n",
              "    li.appendChild(percent);\n",
              "\n",
              "    outputElement.appendChild(li);\n",
              "\n",
              "    const fileDataPromise = new Promise((resolve) => {\n",
              "      const reader = new FileReader();\n",
              "      reader.onload = (e) => {\n",
              "        resolve(e.target.result);\n",
              "      };\n",
              "      reader.readAsArrayBuffer(file);\n",
              "    });\n",
              "    // Wait for the data to be ready.\n",
              "    let fileData = yield {\n",
              "      promise: fileDataPromise,\n",
              "      response: {\n",
              "        action: 'continue',\n",
              "      }\n",
              "    };\n",
              "\n",
              "    // Use a chunked sending to avoid message size limits. See b/62115660.\n",
              "    let position = 0;\n",
              "    do {\n",
              "      const length = Math.min(fileData.byteLength - position, MAX_PAYLOAD_SIZE);\n",
              "      const chunk = new Uint8Array(fileData, position, length);\n",
              "      position += length;\n",
              "\n",
              "      const base64 = btoa(String.fromCharCode.apply(null, chunk));\n",
              "      yield {\n",
              "        response: {\n",
              "          action: 'append',\n",
              "          file: file.name,\n",
              "          data: base64,\n",
              "        },\n",
              "      };\n",
              "\n",
              "      let percentDone = fileData.byteLength === 0 ?\n",
              "          100 :\n",
              "          Math.round((position / fileData.byteLength) * 100);\n",
              "      percent.textContent = `${percentDone}% done`;\n",
              "\n",
              "    } while (position < fileData.byteLength);\n",
              "  }\n",
              "\n",
              "  // All done.\n",
              "  yield {\n",
              "    response: {\n",
              "      action: 'complete',\n",
              "    }\n",
              "  };\n",
              "}\n",
              "\n",
              "scope.google = scope.google || {};\n",
              "scope.google.colab = scope.google.colab || {};\n",
              "scope.google.colab._files = {\n",
              "  _uploadFiles,\n",
              "  _uploadFilesContinue,\n",
              "};\n",
              "})(self);\n",
              "</script> "
            ]
          },
          "metadata": {}
        },
        {
          "output_type": "stream",
          "name": "stdout",
          "text": [
            "Saving kaggle.json to kaggle.json\n"
          ]
        },
        {
          "output_type": "execute_result",
          "data": {
            "text/plain": [
              "{'kaggle.json': b'{\"username\":\"lauramartinezortiz\",\"key\":\"d4a3e9eb11c8f40076c15784c6b41132\"}'}"
            ]
          },
          "metadata": {},
          "execution_count": 2
        }
      ],
      "source": [
        "# Se importa el kaggle.json\n",
        "from google.colab import files\n",
        "files.upload()"
      ],
      "id": "CgnayqzmwclR"
    },
    {
      "cell_type": "code",
      "execution_count": null,
      "metadata": {
        "id": "YXWkmP2PwfWr"
      },
      "outputs": [],
      "source": [
        "# Se crea una carpeta .kaggle donde se guarda la llave\n",
        "!mkdir -p ~/.kaggle"
      ],
      "id": "YXWkmP2PwfWr"
    },
    {
      "cell_type": "code",
      "execution_count": null,
      "metadata": {
        "id": "TAci3RlFwh5h"
      },
      "outputs": [],
      "source": [
        "# Se mueve la llave a la carpeta\n",
        "!cp kaggle.json ~/.kaggle/"
      ],
      "id": "TAci3RlFwh5h"
    },
    {
      "cell_type": "code",
      "execution_count": null,
      "metadata": {
        "id": "0ng8O0tFwjKX"
      },
      "outputs": [],
      "source": [
        "# Se permite el acceso\n",
        "!chmod 600 ~/.kaggle/kaggle.json"
      ],
      "id": "0ng8O0tFwjKX"
    },
    {
      "cell_type": "code",
      "execution_count": null,
      "metadata": {
        "colab": {
          "base_uri": "https://localhost:8080/"
        },
        "id": "hSm5nkNqwqpr",
        "outputId": "a2d4cec6-219f-4c0c-f15d-44e1af30151b"
      },
      "outputs": [
        {
          "output_type": "stream",
          "name": "stdout",
          "text": [
            "ref                                                            title                                                size  lastUpdated          downloadCount  voteCount  usabilityRating  \n",
            "-------------------------------------------------------------  --------------------------------------------------  -----  -------------------  -------------  ---------  ---------------  \n",
            "salvatorerastelli/spotify-and-youtube                          Spotify and Youtube                                   9MB  2023-03-20 15:43:25           9473        338  1.0              \n",
            "arnabchaki/data-science-salaries-2023                          Data Science Salaries 2023  💸                        25KB  2023-04-13 09:55:16           2989         72  1.0              \n",
            "erdemtaha/cancer-data                                          Cancer Data                                          49KB  2023-03-22 07:57:00           4437         99  1.0              \n",
            "evangower/premier-league-2022-2023                             Premier League 2022-2023                              7KB  2023-04-14 19:45:22            740         29  1.0              \n",
            "lokeshparab/amazon-products-dataset                            Amazon Products Sales Dataset 2023                   80MB  2023-03-26 10:45:19           4859        103  1.0              \n",
            "iammustafatz/diabetes-prediction-dataset                       Diabetes prediction dataset                         734KB  2023-04-08 06:11:45           1621         35  1.0              \n",
            "ulrikthygepedersen/fastfood-nutrition                          Fastfood Nutrition                                   12KB  2023-03-21 10:02:41           3899         73  1.0              \n",
            "mikoajfish99/us-recession-and-financial-indicators             🏛️  Financial Indicators of US Recession 📉          989KB  2023-04-17 13:54:47            524         26  1.0              \n",
            "desalegngeb/students-exam-scores                               Students Exam Scores: Extended Dataset              695KB  2023-04-14 00:15:38           1026         31  1.0              \n",
            "rkiattisak/student-performance-in-mathematics                  Student performance prediction                        9KB  2023-03-12 04:32:56           9778        212  1.0              \n",
            "ppb00x/credit-risk-customers                                   credit_risk_customers                                18KB  2023-04-12 08:28:28           1503         41  1.0              \n",
            "ritwikb3/heart-disease-cleveland                               Heart Disease Cleveland                               3KB  2023-03-28 17:48:48            692         25  1.0              \n",
            "ppb00x/country-gdp                                             Country_GDP                                           7KB  2023-04-07 06:47:36           1457         40  1.0              \n",
            "dansbecker/melbourne-housing-snapshot                          Melbourne Housing Snapshot                          451KB  2018-06-05 12:52:24         113510       1250  0.7058824        \n",
            "r1shabhgupta/google-stock-price-daily-weekly-and-monthly-2023  Google Stock Price: Daily, Weekly & Monthly (2023)   61KB  2023-04-15 18:23:08            751         31  1.0              \n",
            "omartorres25/honda-data                                        Honda Cars Data                                     184KB  2023-03-28 04:19:11           1621         34  1.0              \n",
            "harshghadiya/kidneystone                                       Kidney Stone Dataset                                  2KB  2023-04-12 06:09:00            862         24  0.8235294        \n",
            "ashishraut64/internet-users                                    Global Internet users                               163KB  2023-03-29 12:25:13           2605         63  1.0              \n",
            "andrezaza/clapper-massive-rotten-tomatoes-movies-and-reviews   🎬 Massive Rotten Tomatoes Movies & Reviews          152MB  2023-04-13 10:58:54            568         22  1.0              \n",
            "r1chardson/the-world-university-rankings-2011-2023             THE World University Rankings 2011-2023               1MB  2023-04-03 12:43:37           2365         53  1.0              \n"
          ]
        }
      ],
      "source": [
        "# Comprueba el acceso a Kaggle\n",
        "!kaggle datasets list"
      ],
      "id": "hSm5nkNqwqpr"
    },
    {
      "cell_type": "code",
      "execution_count": null,
      "metadata": {
        "colab": {
          "base_uri": "https://localhost:8080/"
        },
        "id": "bAg6c5PbwsP1",
        "outputId": "586d9308-7f10-46d3-b977-0d6d7bd635da"
      },
      "outputs": [
        {
          "output_type": "stream",
          "name": "stdout",
          "text": [
            "Downloading colombian-properties.zip to /content\n",
            " 92% 134M/146M [00:01<00:00, 135MB/s]\n",
            "100% 146M/146M [00:01<00:00, 105MB/s]\n"
          ]
        }
      ],
      "source": [
        "# Descarga el dataset específico \n",
        "!kaggle datasets download -d lauramartinezortiz/colombian-properties --force"
      ],
      "id": "bAg6c5PbwsP1"
    },
    {
      "cell_type": "code",
      "execution_count": null,
      "metadata": {
        "colab": {
          "base_uri": "https://localhost:8080/"
        },
        "id": "GFvCyb3nwust",
        "outputId": "995d6780-4d2a-48f9-a960-a8d7ffc91fe3"
      },
      "outputs": [
        {
          "output_type": "stream",
          "name": "stdout",
          "text": [
            "Archive:  colombian-properties.zip\n",
            "  inflating: co_properties.csv       \n"
          ]
        }
      ],
      "source": [
        "# Descomprime el dataset\n",
        "!unzip colombian-properties.zip"
      ],
      "id": "GFvCyb3nwust"
    },
    {
      "cell_type": "code",
      "execution_count": null,
      "metadata": {
        "id": "mxD6dXXRwwoR"
      },
      "outputs": [],
      "source": [
        "df = pd.read_csv('/content/co_properties.csv')\n",
        "\n",
        "# Renombra la lista de encabezados o nombres de los atributos\n",
        "df.rename(columns={'id': 'id', 'ad_type': 'ad_type', 'start_date': 'start_date', 'end_date': 'end_date', 'created_on': 'created_on', \n",
        "                   'lat': 'latitude', 'lon': 'longitude', 'l1': 'country','l2': 'departments', 'l3': 'city', 'l4': 'neighbourhood', \n",
        "                   'l5': 'l5','l6': 'l6','rooms': 'rooms','bedrooms': 'bedrooms','bathrooms': 'bathrooms','surface_total': 'surface_total',\n",
        "                   'surface_covered': 'surface_covered','price': 'price','currency': 'currency','price_period': 'price_period','title': 'title','description': 'description',\n",
        "                   'property_type': 'property_type','operation_type': 'operation_type'}, inplace=True)\n"
      ],
      "id": "mxD6dXXRwwoR"
    },
    {
      "cell_type": "markdown",
      "metadata": {
        "id": "7oWYyS3Xuk4e"
      },
      "source": [
        "## **Recolección de datos iniciales**"
      ],
      "id": "7oWYyS3Xuk4e"
    },
    {
      "cell_type": "markdown",
      "metadata": {
        "id": "rLjOhNckglIP"
      },
      "source": [
        "### **Reporte de recolección inicial de datos**\n"
      ],
      "id": "rLjOhNckglIP"
    },
    {
      "cell_type": "code",
      "execution_count": null,
      "metadata": {
        "colab": {
          "base_uri": "https://localhost:8080/"
        },
        "id": "qj8S3PvZTP6_",
        "outputId": "071965a9-6ea1-41bb-8e8a-1307412e7da7"
      },
      "outputs": [
        {
          "data": {
            "text/plain": [
              "Index(['id', 'ad_type', 'start_date', 'end_date', 'created_on', 'latitude',\n",
              "       'longitude', 'country', 'departments', 'city', 'neighbourhood', 'l5',\n",
              "       'l6', 'rooms', 'bedrooms', 'bathrooms', 'surface_total',\n",
              "       'surface_covered', 'price', 'currency', 'price_period', 'title',\n",
              "       'description', 'property_type', 'operation_type'],\n",
              "      dtype='object')"
            ]
          },
          "execution_count": 98,
          "metadata": {},
          "output_type": "execute_result"
        }
      ],
      "source": [
        "# Imprime los nombres de las columnas del dataframe \n",
        "df.columns"
      ],
      "id": "qj8S3PvZTP6_"
    },
    {
      "cell_type": "markdown",
      "metadata": {
        "id": "QJqTuvmCDmiV"
      },
      "source": [
        "- **Descripción de las variables**\n",
        "\n",
        " - ad_type (tipo de anuncio):\n",
        "   - Propiedad.\n",
        "   - Desarrollo/Proyecto.\n",
        "\n",
        "  - country (país en el que se publica el anuncio): Colombia\n",
        "\n",
        "  - id - identificación del listado.\n",
        "\n",
        "  - start_date (fecha de registro de la anuncio).\n",
        "  - end_date (fecha de terminación de la anuncio).\n",
        "  - created_on (Fecha de registro de la primera versión de la anuncio).\n",
        "  - latitude (latitud de la propiedad).\n",
        "  - longitude - longitud de la propiedad.\n",
        "  - country (país donde se encuentra la propiedad).\n",
        "  - departments (departamento donde se encuentra la propiedad).\n",
        "  - city (ciudad donde se encuentra la propiedad).\n",
        "  - neighbourhood (barrio donde se encuentra la propiedad).\n",
        "  - operation_type (tipo de operación):\n",
        "      - Venta.\n",
        "      - Alquiler.\n",
        "  - property_type (tipo de la propiedad):\n",
        "      - Casa.\n",
        "      - Departamento.\n",
        "      - PH (propiedad horizontal).\n",
        "  - rooms (número de habitaciones).\n",
        "  - bedrooms (número de habitaciones).\n",
        "  - bathrooms (número de baños).\n",
        "  - surface_total (m² totales de la propiedad).\n",
        "  - surface_covered (m² de superficie cubierta de la propiedad).\n",
        "  - price (precio publicado en el anuncio).\n",
        "  - currency (moneda del precio publicado).\n",
        "  - price_period (plazos de pago de la propiedad):\n",
        "      - Diario.\n",
        "      - Semanal.\n",
        "      - Mensual.\n",
        "  - title (nombre del anuncio).\n",
        "  - description (descripción del anuncio).\n",
        "  - status (estado del desarrollo de la propiedad)\n",
        "  - name (nombre del proyecto).\n",
        "  - short_description (descripción corta)"
      ],
      "id": "QJqTuvmCDmiV"
    },
    {
      "cell_type": "code",
      "execution_count": null,
      "metadata": {
        "colab": {
          "base_uri": "https://localhost:8080/"
        },
        "id": "a7fbb189",
        "outputId": "89fd2296-e2ef-4db5-d8bb-e5384e696ee2"
      },
      "outputs": [
        {
          "name": "stdout",
          "output_type": "stream",
          "text": [
            "<class 'pandas.core.frame.DataFrame'>\n",
            "RangeIndex: 1000000 entries, 0 to 999999\n",
            "Data columns (total 25 columns):\n",
            " #   Column           Non-Null Count    Dtype  \n",
            "---  ------           --------------    -----  \n",
            " 0   id               1000000 non-null  object \n",
            " 1   ad_type          1000000 non-null  object \n",
            " 2   start_date       1000000 non-null  object \n",
            " 3   end_date         1000000 non-null  object \n",
            " 4   created_on       1000000 non-null  object \n",
            " 5   latitude         740281 non-null   float64\n",
            " 6   longitude        740282 non-null   float64\n",
            " 7   country          1000000 non-null  object \n",
            " 8   departments      1000000 non-null  object \n",
            " 9   city             937188 non-null   object \n",
            " 10  neighbourhood    273995 non-null   object \n",
            " 11  l5               159127 non-null   object \n",
            " 12  l6               54747 non-null    object \n",
            " 13  rooms            172087 non-null   float64\n",
            " 14  bedrooms         376046 non-null   float64\n",
            " 15  bathrooms        799493 non-null   float64\n",
            " 16  surface_total    41242 non-null    float64\n",
            " 17  surface_covered  59909 non-null    float64\n",
            " 18  price            999491 non-null   float64\n",
            " 19  currency         999450 non-null   object \n",
            " 20  price_period     121167 non-null   object \n",
            " 21  title            999988 non-null   object \n",
            " 22  description      999356 non-null   object \n",
            " 23  property_type    1000000 non-null  object \n",
            " 24  operation_type   1000000 non-null  object \n",
            "dtypes: float64(8), object(17)\n",
            "memory usage: 190.7+ MB\n"
          ]
        }
      ],
      "source": [
        "# Información general\n",
        "df.info()"
      ],
      "id": "a7fbb189"
    },
    {
      "cell_type": "code",
      "execution_count": null,
      "metadata": {
        "colab": {
          "base_uri": "https://localhost:8080/",
          "height": 1000
        },
        "id": "ff7gGjuFu5tB",
        "outputId": "57a0ac2a-dffa-4359-8bd0-26b501a3c99a"
      },
      "outputs": [
        {
          "data": {
            "text/html": [
              "\n",
              "  <div id=\"df-14f31b57-2893-480a-988e-782d24025bd8\">\n",
              "    <div class=\"colab-df-container\">\n",
              "      <div>\n",
              "<style scoped>\n",
              "    .dataframe tbody tr th:only-of-type {\n",
              "        vertical-align: middle;\n",
              "    }\n",
              "\n",
              "    .dataframe tbody tr th {\n",
              "        vertical-align: top;\n",
              "    }\n",
              "\n",
              "    .dataframe thead th {\n",
              "        text-align: right;\n",
              "    }\n",
              "</style>\n",
              "<table border=\"1\" class=\"dataframe\">\n",
              "  <thead>\n",
              "    <tr style=\"text-align: right;\">\n",
              "      <th></th>\n",
              "      <th>id</th>\n",
              "      <th>ad_type</th>\n",
              "      <th>start_date</th>\n",
              "      <th>end_date</th>\n",
              "      <th>created_on</th>\n",
              "      <th>latitude</th>\n",
              "      <th>longitude</th>\n",
              "      <th>country</th>\n",
              "      <th>departments</th>\n",
              "      <th>city</th>\n",
              "      <th>...</th>\n",
              "      <th>bathrooms</th>\n",
              "      <th>surface_total</th>\n",
              "      <th>surface_covered</th>\n",
              "      <th>price</th>\n",
              "      <th>currency</th>\n",
              "      <th>price_period</th>\n",
              "      <th>title</th>\n",
              "      <th>description</th>\n",
              "      <th>property_type</th>\n",
              "      <th>operation_type</th>\n",
              "    </tr>\n",
              "  </thead>\n",
              "  <tbody>\n",
              "    <tr>\n",
              "      <th>0</th>\n",
              "      <td>KsjahK62rxcYKXXQjOdkqw==</td>\n",
              "      <td>Propiedad</td>\n",
              "      <td>2020-10-07</td>\n",
              "      <td>2021-10-09</td>\n",
              "      <td>2020-10-07</td>\n",
              "      <td>3.9210</td>\n",
              "      <td>-76.506000</td>\n",
              "      <td>Colombia</td>\n",
              "      <td>Valle del Cauca</td>\n",
              "      <td>NaN</td>\n",
              "      <td>...</td>\n",
              "      <td>7.0</td>\n",
              "      <td>NaN</td>\n",
              "      <td>NaN</td>\n",
              "      <td>1.300000e+09</td>\n",
              "      <td>COP</td>\n",
              "      <td>NaN</td>\n",
              "      <td>Casa Campestre en venta en darien 3469064</td>\n",
              "      <td>HERMOSA CASA CAMPESTRE, &amp;Aacute;REA 6,000 MT, ...</td>\n",
              "      <td>Casa</td>\n",
              "      <td>Venta</td>\n",
              "    </tr>\n",
              "    <tr>\n",
              "      <th>1</th>\n",
              "      <td>Y+gsBZYq1zu5NoR3V5oUGA==</td>\n",
              "      <td>Propiedad</td>\n",
              "      <td>2020-10-07</td>\n",
              "      <td>2021-01-06</td>\n",
              "      <td>2020-10-07</td>\n",
              "      <td>3.3577</td>\n",
              "      <td>-76.541811</td>\n",
              "      <td>Colombia</td>\n",
              "      <td>Valle del Cauca</td>\n",
              "      <td>Cali</td>\n",
              "      <td>...</td>\n",
              "      <td>7.0</td>\n",
              "      <td>NaN</td>\n",
              "      <td>NaN</td>\n",
              "      <td>2.800000e+09</td>\n",
              "      <td>COP</td>\n",
              "      <td>NaN</td>\n",
              "      <td>Casa en ciudsd jardin</td>\n",
              "      <td>Casa independiente con posiciona en ciudad jar...</td>\n",
              "      <td>Casa</td>\n",
              "      <td>Venta</td>\n",
              "    </tr>\n",
              "    <tr>\n",
              "      <th>2</th>\n",
              "      <td>Jpzqxj8/Vgf3Aa5ASxUBNg==</td>\n",
              "      <td>Propiedad</td>\n",
              "      <td>2020-10-07</td>\n",
              "      <td>2020-10-07</td>\n",
              "      <td>2020-10-07</td>\n",
              "      <td>3.3577</td>\n",
              "      <td>-76.541811</td>\n",
              "      <td>Colombia</td>\n",
              "      <td>Valle del Cauca</td>\n",
              "      <td>Cali</td>\n",
              "      <td>...</td>\n",
              "      <td>7.0</td>\n",
              "      <td>NaN</td>\n",
              "      <td>NaN</td>\n",
              "      <td>2.800000e+09</td>\n",
              "      <td>COP</td>\n",
              "      <td>Mensual</td>\n",
              "      <td>Casa en ciudsd jardin</td>\n",
              "      <td>Casa independiente con posiciona en ciudad jar...</td>\n",
              "      <td>Casa</td>\n",
              "      <td>Venta</td>\n",
              "    </tr>\n",
              "    <tr>\n",
              "      <th>3</th>\n",
              "      <td>ieuFnkFx/yHDD66iMV14Gw==</td>\n",
              "      <td>Propiedad</td>\n",
              "      <td>2020-10-07</td>\n",
              "      <td>2021-04-12</td>\n",
              "      <td>2020-10-07</td>\n",
              "      <td>3.3640</td>\n",
              "      <td>-76.538000</td>\n",
              "      <td>Colombia</td>\n",
              "      <td>Valle del Cauca</td>\n",
              "      <td>Cali</td>\n",
              "      <td>...</td>\n",
              "      <td>8.0</td>\n",
              "      <td>NaN</td>\n",
              "      <td>NaN</td>\n",
              "      <td>3.500000e+09</td>\n",
              "      <td>COP</td>\n",
              "      <td>NaN</td>\n",
              "      <td>Casa en venta en pance 1630426</td>\n",
              "      <td>EXCELENTE CASA - LOTE 6,373 MT, EN OBRA GRIS U...</td>\n",
              "      <td>Casa</td>\n",
              "      <td>Venta</td>\n",
              "    </tr>\n",
              "    <tr>\n",
              "      <th>4</th>\n",
              "      <td>g4u5JM+hAHEk8SukRSjMzg==</td>\n",
              "      <td>Propiedad</td>\n",
              "      <td>2020-10-07</td>\n",
              "      <td>9999-12-31</td>\n",
              "      <td>2020-10-07</td>\n",
              "      <td>3.3910</td>\n",
              "      <td>-76.517000</td>\n",
              "      <td>Colombia</td>\n",
              "      <td>Valle del Cauca</td>\n",
              "      <td>Cali</td>\n",
              "      <td>...</td>\n",
              "      <td>9.0</td>\n",
              "      <td>NaN</td>\n",
              "      <td>NaN</td>\n",
              "      <td>4.800000e+08</td>\n",
              "      <td>COP</td>\n",
              "      <td>NaN</td>\n",
              "      <td>CASA EXTERNA BARRIO CIUDAD 2000</td>\n",
              "      <td>CASA EXTERNA EN EL BARRIO CIUDAD 2000,CONSTRUI...</td>\n",
              "      <td>Casa</td>\n",
              "      <td>Venta</td>\n",
              "    </tr>\n",
              "    <tr>\n",
              "      <th>5</th>\n",
              "      <td>+S9T8NKJ/yyndMxxRz1emQ==</td>\n",
              "      <td>Propiedad</td>\n",
              "      <td>2020-10-07</td>\n",
              "      <td>9999-12-31</td>\n",
              "      <td>2020-10-07</td>\n",
              "      <td>3.4130</td>\n",
              "      <td>-76.544000</td>\n",
              "      <td>Colombia</td>\n",
              "      <td>Valle del Cauca</td>\n",
              "      <td>Cali</td>\n",
              "      <td>...</td>\n",
              "      <td>10.0</td>\n",
              "      <td>NaN</td>\n",
              "      <td>NaN</td>\n",
              "      <td>1.400000e+09</td>\n",
              "      <td>COP</td>\n",
              "      <td>NaN</td>\n",
              "      <td>CASA PARA VENTA  NUEVA TEQUENDAMA</td>\n",
              "      <td>CASA EXTERNA CONSTRUIDA EN TRES PISOS , EN EL ...</td>\n",
              "      <td>Casa</td>\n",
              "      <td>Venta</td>\n",
              "    </tr>\n",
              "    <tr>\n",
              "      <th>6</th>\n",
              "      <td>0DBic9QJv2FL9Oq0S+xaSA==</td>\n",
              "      <td>Propiedad</td>\n",
              "      <td>2020-10-07</td>\n",
              "      <td>2020-10-22</td>\n",
              "      <td>2020-10-07</td>\n",
              "      <td>3.4510</td>\n",
              "      <td>-76.532000</td>\n",
              "      <td>Colombia</td>\n",
              "      <td>Valle del Cauca</td>\n",
              "      <td>Cali</td>\n",
              "      <td>...</td>\n",
              "      <td>7.0</td>\n",
              "      <td>NaN</td>\n",
              "      <td>NaN</td>\n",
              "      <td>2.800000e+08</td>\n",
              "      <td>COP</td>\n",
              "      <td>NaN</td>\n",
              "      <td>Casa en venta en zona norte 3558799</td>\n",
              "      <td>CASA EN PASAJE NO V&amp;Iacute;A VEHICULAR UBICADA...</td>\n",
              "      <td>Casa</td>\n",
              "      <td>Venta</td>\n",
              "    </tr>\n",
              "    <tr>\n",
              "      <th>7</th>\n",
              "      <td>0/S4PBWArkYd3NDMyZZtPQ==</td>\n",
              "      <td>Propiedad</td>\n",
              "      <td>2020-10-07</td>\n",
              "      <td>2021-06-22</td>\n",
              "      <td>2020-10-07</td>\n",
              "      <td>3.4270</td>\n",
              "      <td>-76.542000</td>\n",
              "      <td>Colombia</td>\n",
              "      <td>Valle del Cauca</td>\n",
              "      <td>Cali</td>\n",
              "      <td>...</td>\n",
              "      <td>7.0</td>\n",
              "      <td>NaN</td>\n",
              "      <td>NaN</td>\n",
              "      <td>5.300000e+08</td>\n",
              "      <td>COP</td>\n",
              "      <td>NaN</td>\n",
              "      <td>Casa en venta en san fernando 3476093</td>\n",
              "      <td>VENDE CASA EN EL SECTOR DE SAN FERNANDO VIEJO,...</td>\n",
              "      <td>Casa</td>\n",
              "      <td>Venta</td>\n",
              "    </tr>\n",
              "    <tr>\n",
              "      <th>8</th>\n",
              "      <td>mrYI162HS5qJaAFN2WpP2Q==</td>\n",
              "      <td>Propiedad</td>\n",
              "      <td>2020-10-07</td>\n",
              "      <td>2021-02-11</td>\n",
              "      <td>2020-10-07</td>\n",
              "      <td>3.3640</td>\n",
              "      <td>-76.538000</td>\n",
              "      <td>Colombia</td>\n",
              "      <td>Valle del Cauca</td>\n",
              "      <td>Cali</td>\n",
              "      <td>...</td>\n",
              "      <td>9.0</td>\n",
              "      <td>NaN</td>\n",
              "      <td>NaN</td>\n",
              "      <td>7.000000e+06</td>\n",
              "      <td>COP</td>\n",
              "      <td>NaN</td>\n",
              "      <td>ALQUILA EXCELENTE CASA EN CIUDAD JARDIN</td>\n",
              "      <td>EXCELENTE VIVIENDA UBICADA SOBRE VIA PRINCIPAL...</td>\n",
              "      <td>Casa</td>\n",
              "      <td>Arriendo</td>\n",
              "    </tr>\n",
              "    <tr>\n",
              "      <th>9</th>\n",
              "      <td>3q8MmfVZHtWJa6pxNnypeg==</td>\n",
              "      <td>Propiedad</td>\n",
              "      <td>2020-10-07</td>\n",
              "      <td>9999-12-31</td>\n",
              "      <td>2020-10-07</td>\n",
              "      <td>3.5650</td>\n",
              "      <td>-76.551000</td>\n",
              "      <td>Colombia</td>\n",
              "      <td>Valle del Cauca</td>\n",
              "      <td>Cali</td>\n",
              "      <td>...</td>\n",
              "      <td>7.0</td>\n",
              "      <td>NaN</td>\n",
              "      <td>NaN</td>\n",
              "      <td>1.700000e+09</td>\n",
              "      <td>COP</td>\n",
              "      <td>NaN</td>\n",
              "      <td>HERMOSA CASA EN VENTA EN JAMUNDÍ 2844215</td>\n",
              "      <td>EXCELENTE CASA EN CONDOMINIO EXCLUSIVO, &amp;Aacut...</td>\n",
              "      <td>Casa</td>\n",
              "      <td>Venta</td>\n",
              "    </tr>\n",
              "  </tbody>\n",
              "</table>\n",
              "<p>10 rows × 25 columns</p>\n",
              "</div>\n",
              "      <button class=\"colab-df-convert\" onclick=\"convertToInteractive('df-14f31b57-2893-480a-988e-782d24025bd8')\"\n",
              "              title=\"Convert this dataframe to an interactive table.\"\n",
              "              style=\"display:none;\">\n",
              "        \n",
              "  <svg xmlns=\"http://www.w3.org/2000/svg\" height=\"24px\"viewBox=\"0 0 24 24\"\n",
              "       width=\"24px\">\n",
              "    <path d=\"M0 0h24v24H0V0z\" fill=\"none\"/>\n",
              "    <path d=\"M18.56 5.44l.94 2.06.94-2.06 2.06-.94-2.06-.94-.94-2.06-.94 2.06-2.06.94zm-11 1L8.5 8.5l.94-2.06 2.06-.94-2.06-.94L8.5 2.5l-.94 2.06-2.06.94zm10 10l.94 2.06.94-2.06 2.06-.94-2.06-.94-.94-2.06-.94 2.06-2.06.94z\"/><path d=\"M17.41 7.96l-1.37-1.37c-.4-.4-.92-.59-1.43-.59-.52 0-1.04.2-1.43.59L10.3 9.45l-7.72 7.72c-.78.78-.78 2.05 0 2.83L4 21.41c.39.39.9.59 1.41.59.51 0 1.02-.2 1.41-.59l7.78-7.78 2.81-2.81c.8-.78.8-2.07 0-2.86zM5.41 20L4 18.59l7.72-7.72 1.47 1.35L5.41 20z\"/>\n",
              "  </svg>\n",
              "      </button>\n",
              "      \n",
              "  <style>\n",
              "    .colab-df-container {\n",
              "      display:flex;\n",
              "      flex-wrap:wrap;\n",
              "      gap: 12px;\n",
              "    }\n",
              "\n",
              "    .colab-df-convert {\n",
              "      background-color: #E8F0FE;\n",
              "      border: none;\n",
              "      border-radius: 50%;\n",
              "      cursor: pointer;\n",
              "      display: none;\n",
              "      fill: #1967D2;\n",
              "      height: 32px;\n",
              "      padding: 0 0 0 0;\n",
              "      width: 32px;\n",
              "    }\n",
              "\n",
              "    .colab-df-convert:hover {\n",
              "      background-color: #E2EBFA;\n",
              "      box-shadow: 0px 1px 2px rgba(60, 64, 67, 0.3), 0px 1px 3px 1px rgba(60, 64, 67, 0.15);\n",
              "      fill: #174EA6;\n",
              "    }\n",
              "\n",
              "    [theme=dark] .colab-df-convert {\n",
              "      background-color: #3B4455;\n",
              "      fill: #D2E3FC;\n",
              "    }\n",
              "\n",
              "    [theme=dark] .colab-df-convert:hover {\n",
              "      background-color: #434B5C;\n",
              "      box-shadow: 0px 1px 3px 1px rgba(0, 0, 0, 0.15);\n",
              "      filter: drop-shadow(0px 1px 2px rgba(0, 0, 0, 0.3));\n",
              "      fill: #FFFFFF;\n",
              "    }\n",
              "  </style>\n",
              "\n",
              "      <script>\n",
              "        const buttonEl =\n",
              "          document.querySelector('#df-14f31b57-2893-480a-988e-782d24025bd8 button.colab-df-convert');\n",
              "        buttonEl.style.display =\n",
              "          google.colab.kernel.accessAllowed ? 'block' : 'none';\n",
              "\n",
              "        async function convertToInteractive(key) {\n",
              "          const element = document.querySelector('#df-14f31b57-2893-480a-988e-782d24025bd8');\n",
              "          const dataTable =\n",
              "            await google.colab.kernel.invokeFunction('convertToInteractive',\n",
              "                                                     [key], {});\n",
              "          if (!dataTable) return;\n",
              "\n",
              "          const docLinkHtml = 'Like what you see? Visit the ' +\n",
              "            '<a target=\"_blank\" href=https://colab.research.google.com/notebooks/data_table.ipynb>data table notebook</a>'\n",
              "            + ' to learn more about interactive tables.';\n",
              "          element.innerHTML = '';\n",
              "          dataTable['output_type'] = 'display_data';\n",
              "          await google.colab.output.renderOutput(dataTable, element);\n",
              "          const docLink = document.createElement('div');\n",
              "          docLink.innerHTML = docLinkHtml;\n",
              "          element.appendChild(docLink);\n",
              "        }\n",
              "      </script>\n",
              "    </div>\n",
              "  </div>\n",
              "  "
            ],
            "text/plain": [
              "                         id    ad_type  start_date    end_date  created_on  \\\n",
              "0  KsjahK62rxcYKXXQjOdkqw==  Propiedad  2020-10-07  2021-10-09  2020-10-07   \n",
              "1  Y+gsBZYq1zu5NoR3V5oUGA==  Propiedad  2020-10-07  2021-01-06  2020-10-07   \n",
              "2  Jpzqxj8/Vgf3Aa5ASxUBNg==  Propiedad  2020-10-07  2020-10-07  2020-10-07   \n",
              "3  ieuFnkFx/yHDD66iMV14Gw==  Propiedad  2020-10-07  2021-04-12  2020-10-07   \n",
              "4  g4u5JM+hAHEk8SukRSjMzg==  Propiedad  2020-10-07  9999-12-31  2020-10-07   \n",
              "5  +S9T8NKJ/yyndMxxRz1emQ==  Propiedad  2020-10-07  9999-12-31  2020-10-07   \n",
              "6  0DBic9QJv2FL9Oq0S+xaSA==  Propiedad  2020-10-07  2020-10-22  2020-10-07   \n",
              "7  0/S4PBWArkYd3NDMyZZtPQ==  Propiedad  2020-10-07  2021-06-22  2020-10-07   \n",
              "8  mrYI162HS5qJaAFN2WpP2Q==  Propiedad  2020-10-07  2021-02-11  2020-10-07   \n",
              "9  3q8MmfVZHtWJa6pxNnypeg==  Propiedad  2020-10-07  9999-12-31  2020-10-07   \n",
              "\n",
              "   latitude  longitude   country      departments  city  ... bathrooms  \\\n",
              "0    3.9210 -76.506000  Colombia  Valle del Cauca   NaN  ...       7.0   \n",
              "1    3.3577 -76.541811  Colombia  Valle del Cauca  Cali  ...       7.0   \n",
              "2    3.3577 -76.541811  Colombia  Valle del Cauca  Cali  ...       7.0   \n",
              "3    3.3640 -76.538000  Colombia  Valle del Cauca  Cali  ...       8.0   \n",
              "4    3.3910 -76.517000  Colombia  Valle del Cauca  Cali  ...       9.0   \n",
              "5    3.4130 -76.544000  Colombia  Valle del Cauca  Cali  ...      10.0   \n",
              "6    3.4510 -76.532000  Colombia  Valle del Cauca  Cali  ...       7.0   \n",
              "7    3.4270 -76.542000  Colombia  Valle del Cauca  Cali  ...       7.0   \n",
              "8    3.3640 -76.538000  Colombia  Valle del Cauca  Cali  ...       9.0   \n",
              "9    3.5650 -76.551000  Colombia  Valle del Cauca  Cali  ...       7.0   \n",
              "\n",
              "  surface_total surface_covered         price  currency  price_period  \\\n",
              "0           NaN             NaN  1.300000e+09       COP           NaN   \n",
              "1           NaN             NaN  2.800000e+09       COP           NaN   \n",
              "2           NaN             NaN  2.800000e+09       COP       Mensual   \n",
              "3           NaN             NaN  3.500000e+09       COP           NaN   \n",
              "4           NaN             NaN  4.800000e+08       COP           NaN   \n",
              "5           NaN             NaN  1.400000e+09       COP           NaN   \n",
              "6           NaN             NaN  2.800000e+08       COP           NaN   \n",
              "7           NaN             NaN  5.300000e+08       COP           NaN   \n",
              "8           NaN             NaN  7.000000e+06       COP           NaN   \n",
              "9           NaN             NaN  1.700000e+09       COP           NaN   \n",
              "\n",
              "                                       title  \\\n",
              "0  Casa Campestre en venta en darien 3469064   \n",
              "1                      Casa en ciudsd jardin   \n",
              "2                      Casa en ciudsd jardin   \n",
              "3             Casa en venta en pance 1630426   \n",
              "4            CASA EXTERNA BARRIO CIUDAD 2000   \n",
              "5          CASA PARA VENTA  NUEVA TEQUENDAMA   \n",
              "6        Casa en venta en zona norte 3558799   \n",
              "7      Casa en venta en san fernando 3476093   \n",
              "8    ALQUILA EXCELENTE CASA EN CIUDAD JARDIN   \n",
              "9   HERMOSA CASA EN VENTA EN JAMUNDÍ 2844215   \n",
              "\n",
              "                                         description  property_type  \\\n",
              "0  HERMOSA CASA CAMPESTRE, &Aacute;REA 6,000 MT, ...           Casa   \n",
              "1  Casa independiente con posiciona en ciudad jar...           Casa   \n",
              "2  Casa independiente con posiciona en ciudad jar...           Casa   \n",
              "3  EXCELENTE CASA - LOTE 6,373 MT, EN OBRA GRIS U...           Casa   \n",
              "4  CASA EXTERNA EN EL BARRIO CIUDAD 2000,CONSTRUI...           Casa   \n",
              "5  CASA EXTERNA CONSTRUIDA EN TRES PISOS , EN EL ...           Casa   \n",
              "6  CASA EN PASAJE NO V&Iacute;A VEHICULAR UBICADA...           Casa   \n",
              "7  VENDE CASA EN EL SECTOR DE SAN FERNANDO VIEJO,...           Casa   \n",
              "8  EXCELENTE VIVIENDA UBICADA SOBRE VIA PRINCIPAL...           Casa   \n",
              "9  EXCELENTE CASA EN CONDOMINIO EXCLUSIVO, &Aacut...           Casa   \n",
              "\n",
              "  operation_type  \n",
              "0          Venta  \n",
              "1          Venta  \n",
              "2          Venta  \n",
              "3          Venta  \n",
              "4          Venta  \n",
              "5          Venta  \n",
              "6          Venta  \n",
              "7          Venta  \n",
              "8       Arriendo  \n",
              "9          Venta  \n",
              "\n",
              "[10 rows x 25 columns]"
            ]
          },
          "execution_count": 100,
          "metadata": {},
          "output_type": "execute_result"
        }
      ],
      "source": [
        "# Vista preliminar\n",
        "df.head(10)"
      ],
      "id": "ff7gGjuFu5tB"
    },
    {
      "cell_type": "markdown",
      "metadata": {
        "id": "YbaJY6fdunup"
      },
      "source": [
        "## **Descripción de los datos**\n",
        "- **Reporte de descripción de datos**"
      ],
      "id": "YbaJY6fdunup"
    },
    {
      "cell_type": "code",
      "execution_count": null,
      "metadata": {
        "colab": {
          "base_uri": "https://localhost:8080/"
        },
        "id": "9c8fc3e3",
        "outputId": "977b80ce-9bee-449e-c141-36ff09781bab"
      },
      "outputs": [
        {
          "data": {
            "text/plain": [
              "(1000000, 25)"
            ]
          },
          "execution_count": 11,
          "metadata": {},
          "output_type": "execute_result"
        }
      ],
      "source": [
        "# Tamaño del dataset\n",
        "df.shape"
      ],
      "id": "9c8fc3e3"
    },
    {
      "cell_type": "code",
      "execution_count": null,
      "metadata": {
        "colab": {
          "base_uri": "https://localhost:8080/"
        },
        "id": "YUjAXWpFvoK-",
        "outputId": "70df3494-6197-412d-e629-fc49e6fbfe75"
      },
      "outputs": [
        {
          "name": "stdout",
          "output_type": "stream",
          "text": [
            "id                  object\n",
            "ad_type             object\n",
            "start_date          object\n",
            "end_date            object\n",
            "created_on          object\n",
            "latitude           float64\n",
            "longitude          float64\n",
            "country             object\n",
            "departments         object\n",
            "city                object\n",
            "neighbourhood       object\n",
            "l5                  object\n",
            "l6                  object\n",
            "rooms              float64\n",
            "bedrooms           float64\n",
            "bathrooms          float64\n",
            "surface_total      float64\n",
            "surface_covered    float64\n",
            "price              float64\n",
            "currency            object\n",
            "price_period        object\n",
            "title               object\n",
            "description         object\n",
            "property_type       object\n",
            "operation_type      object\n",
            "dtype: object\n"
          ]
        }
      ],
      "source": [
        "# Comprobar el tipo de datos del data frame \"df\" \n",
        "print(df.dtypes)"
      ],
      "id": "YUjAXWpFvoK-"
    },
    {
      "cell_type": "code",
      "execution_count": null,
      "metadata": {
        "colab": {
          "base_uri": "https://localhost:8080/",
          "height": 300
        },
        "id": "gDhe3wcjxYNZ",
        "outputId": "cc3a976d-a61e-4777-c604-7b9af87e8725"
      },
      "outputs": [
        {
          "data": {
            "text/html": [
              "\n",
              "  <div id=\"df-ec643a66-50a3-4cad-a964-1316872efefd\">\n",
              "    <div class=\"colab-df-container\">\n",
              "      <div>\n",
              "<style scoped>\n",
              "    .dataframe tbody tr th:only-of-type {\n",
              "        vertical-align: middle;\n",
              "    }\n",
              "\n",
              "    .dataframe tbody tr th {\n",
              "        vertical-align: top;\n",
              "    }\n",
              "\n",
              "    .dataframe thead th {\n",
              "        text-align: right;\n",
              "    }\n",
              "</style>\n",
              "<table border=\"1\" class=\"dataframe\">\n",
              "  <thead>\n",
              "    <tr style=\"text-align: right;\">\n",
              "      <th></th>\n",
              "      <th>latitude</th>\n",
              "      <th>longitude</th>\n",
              "      <th>rooms</th>\n",
              "      <th>bedrooms</th>\n",
              "      <th>bathrooms</th>\n",
              "      <th>surface_total</th>\n",
              "      <th>surface_covered</th>\n",
              "      <th>price</th>\n",
              "    </tr>\n",
              "  </thead>\n",
              "  <tbody>\n",
              "    <tr>\n",
              "      <th>count</th>\n",
              "      <td>740281.000000</td>\n",
              "      <td>740282.000000</td>\n",
              "      <td>172087.000000</td>\n",
              "      <td>376046.000000</td>\n",
              "      <td>799493.000000</td>\n",
              "      <td>41242.000000</td>\n",
              "      <td>5.990900e+04</td>\n",
              "      <td>9.994910e+05</td>\n",
              "    </tr>\n",
              "    <tr>\n",
              "      <th>mean</th>\n",
              "      <td>5.822493</td>\n",
              "      <td>-74.894785</td>\n",
              "      <td>3.124123</td>\n",
              "      <td>2.807143</td>\n",
              "      <td>2.414535</td>\n",
              "      <td>982.631225</td>\n",
              "      <td>1.502723e+03</td>\n",
              "      <td>4.069529e+08</td>\n",
              "    </tr>\n",
              "    <tr>\n",
              "      <th>std</th>\n",
              "      <td>2.239672</td>\n",
              "      <td>1.309072</td>\n",
              "      <td>1.802065</td>\n",
              "      <td>1.952432</td>\n",
              "      <td>1.412620</td>\n",
              "      <td>7013.950521</td>\n",
              "      <td>1.520965e+05</td>\n",
              "      <td>2.421719e+09</td>\n",
              "    </tr>\n",
              "    <tr>\n",
              "      <th>min</th>\n",
              "      <td>-75.640330</td>\n",
              "      <td>-180.000000</td>\n",
              "      <td>1.000000</td>\n",
              "      <td>0.000000</td>\n",
              "      <td>1.000000</td>\n",
              "      <td>10.000000</td>\n",
              "      <td>1.000000e+00</td>\n",
              "      <td>0.000000e+00</td>\n",
              "    </tr>\n",
              "    <tr>\n",
              "      <th>25%</th>\n",
              "      <td>4.642000</td>\n",
              "      <td>-75.603426</td>\n",
              "      <td>2.000000</td>\n",
              "      <td>2.000000</td>\n",
              "      <td>2.000000</td>\n",
              "      <td>64.000000</td>\n",
              "      <td>6.200000e+01</td>\n",
              "      <td>1.800000e+06</td>\n",
              "    </tr>\n",
              "    <tr>\n",
              "      <th>50%</th>\n",
              "      <td>5.047020</td>\n",
              "      <td>-75.107489</td>\n",
              "      <td>3.000000</td>\n",
              "      <td>3.000000</td>\n",
              "      <td>2.000000</td>\n",
              "      <td>100.000000</td>\n",
              "      <td>9.600000e+01</td>\n",
              "      <td>1.500000e+08</td>\n",
              "    </tr>\n",
              "    <tr>\n",
              "      <th>75%</th>\n",
              "      <td>6.336598</td>\n",
              "      <td>-74.055889</td>\n",
              "      <td>3.000000</td>\n",
              "      <td>3.000000</td>\n",
              "      <td>3.000000</td>\n",
              "      <td>223.750000</td>\n",
              "      <td>1.880000e+02</td>\n",
              "      <td>3.950000e+08</td>\n",
              "    </tr>\n",
              "    <tr>\n",
              "      <th>max</th>\n",
              "      <td>85.051129</td>\n",
              "      <td>100.477498</td>\n",
              "      <td>40.000000</td>\n",
              "      <td>96.000000</td>\n",
              "      <td>20.000000</td>\n",
              "      <td>200000.000000</td>\n",
              "      <td>3.152010e+07</td>\n",
              "      <td>1.600000e+12</td>\n",
              "    </tr>\n",
              "  </tbody>\n",
              "</table>\n",
              "</div>\n",
              "      <button class=\"colab-df-convert\" onclick=\"convertToInteractive('df-ec643a66-50a3-4cad-a964-1316872efefd')\"\n",
              "              title=\"Convert this dataframe to an interactive table.\"\n",
              "              style=\"display:none;\">\n",
              "        \n",
              "  <svg xmlns=\"http://www.w3.org/2000/svg\" height=\"24px\"viewBox=\"0 0 24 24\"\n",
              "       width=\"24px\">\n",
              "    <path d=\"M0 0h24v24H0V0z\" fill=\"none\"/>\n",
              "    <path d=\"M18.56 5.44l.94 2.06.94-2.06 2.06-.94-2.06-.94-.94-2.06-.94 2.06-2.06.94zm-11 1L8.5 8.5l.94-2.06 2.06-.94-2.06-.94L8.5 2.5l-.94 2.06-2.06.94zm10 10l.94 2.06.94-2.06 2.06-.94-2.06-.94-.94-2.06-.94 2.06-2.06.94z\"/><path d=\"M17.41 7.96l-1.37-1.37c-.4-.4-.92-.59-1.43-.59-.52 0-1.04.2-1.43.59L10.3 9.45l-7.72 7.72c-.78.78-.78 2.05 0 2.83L4 21.41c.39.39.9.59 1.41.59.51 0 1.02-.2 1.41-.59l7.78-7.78 2.81-2.81c.8-.78.8-2.07 0-2.86zM5.41 20L4 18.59l7.72-7.72 1.47 1.35L5.41 20z\"/>\n",
              "  </svg>\n",
              "      </button>\n",
              "      \n",
              "  <style>\n",
              "    .colab-df-container {\n",
              "      display:flex;\n",
              "      flex-wrap:wrap;\n",
              "      gap: 12px;\n",
              "    }\n",
              "\n",
              "    .colab-df-convert {\n",
              "      background-color: #E8F0FE;\n",
              "      border: none;\n",
              "      border-radius: 50%;\n",
              "      cursor: pointer;\n",
              "      display: none;\n",
              "      fill: #1967D2;\n",
              "      height: 32px;\n",
              "      padding: 0 0 0 0;\n",
              "      width: 32px;\n",
              "    }\n",
              "\n",
              "    .colab-df-convert:hover {\n",
              "      background-color: #E2EBFA;\n",
              "      box-shadow: 0px 1px 2px rgba(60, 64, 67, 0.3), 0px 1px 3px 1px rgba(60, 64, 67, 0.15);\n",
              "      fill: #174EA6;\n",
              "    }\n",
              "\n",
              "    [theme=dark] .colab-df-convert {\n",
              "      background-color: #3B4455;\n",
              "      fill: #D2E3FC;\n",
              "    }\n",
              "\n",
              "    [theme=dark] .colab-df-convert:hover {\n",
              "      background-color: #434B5C;\n",
              "      box-shadow: 0px 1px 3px 1px rgba(0, 0, 0, 0.15);\n",
              "      filter: drop-shadow(0px 1px 2px rgba(0, 0, 0, 0.3));\n",
              "      fill: #FFFFFF;\n",
              "    }\n",
              "  </style>\n",
              "\n",
              "      <script>\n",
              "        const buttonEl =\n",
              "          document.querySelector('#df-ec643a66-50a3-4cad-a964-1316872efefd button.colab-df-convert');\n",
              "        buttonEl.style.display =\n",
              "          google.colab.kernel.accessAllowed ? 'block' : 'none';\n",
              "\n",
              "        async function convertToInteractive(key) {\n",
              "          const element = document.querySelector('#df-ec643a66-50a3-4cad-a964-1316872efefd');\n",
              "          const dataTable =\n",
              "            await google.colab.kernel.invokeFunction('convertToInteractive',\n",
              "                                                     [key], {});\n",
              "          if (!dataTable) return;\n",
              "\n",
              "          const docLinkHtml = 'Like what you see? Visit the ' +\n",
              "            '<a target=\"_blank\" href=https://colab.research.google.com/notebooks/data_table.ipynb>data table notebook</a>'\n",
              "            + ' to learn more about interactive tables.';\n",
              "          element.innerHTML = '';\n",
              "          dataTable['output_type'] = 'display_data';\n",
              "          await google.colab.output.renderOutput(dataTable, element);\n",
              "          const docLink = document.createElement('div');\n",
              "          docLink.innerHTML = docLinkHtml;\n",
              "          element.appendChild(docLink);\n",
              "        }\n",
              "      </script>\n",
              "    </div>\n",
              "  </div>\n",
              "  "
            ],
            "text/plain": [
              "            latitude      longitude          rooms       bedrooms  \\\n",
              "count  740281.000000  740282.000000  172087.000000  376046.000000   \n",
              "mean        5.822493     -74.894785       3.124123       2.807143   \n",
              "std         2.239672       1.309072       1.802065       1.952432   \n",
              "min       -75.640330    -180.000000       1.000000       0.000000   \n",
              "25%         4.642000     -75.603426       2.000000       2.000000   \n",
              "50%         5.047020     -75.107489       3.000000       3.000000   \n",
              "75%         6.336598     -74.055889       3.000000       3.000000   \n",
              "max        85.051129     100.477498      40.000000      96.000000   \n",
              "\n",
              "           bathrooms  surface_total  surface_covered         price  \n",
              "count  799493.000000   41242.000000     5.990900e+04  9.994910e+05  \n",
              "mean        2.414535     982.631225     1.502723e+03  4.069529e+08  \n",
              "std         1.412620    7013.950521     1.520965e+05  2.421719e+09  \n",
              "min         1.000000      10.000000     1.000000e+00  0.000000e+00  \n",
              "25%         2.000000      64.000000     6.200000e+01  1.800000e+06  \n",
              "50%         2.000000     100.000000     9.600000e+01  1.500000e+08  \n",
              "75%         3.000000     223.750000     1.880000e+02  3.950000e+08  \n",
              "max        20.000000  200000.000000     3.152010e+07  1.600000e+12  "
            ]
          },
          "execution_count": 103,
          "metadata": {},
          "output_type": "execute_result"
        }
      ],
      "source": [
        "# Obtener el resumen estadístico de las columnas de tipo numérico\n",
        "df.describe()"
      ],
      "id": "gDhe3wcjxYNZ"
    },
    {
      "cell_type": "code",
      "execution_count": null,
      "metadata": {
        "colab": {
          "base_uri": "https://localhost:8080/",
          "height": 574
        },
        "id": "b8m4zqaoxiQI",
        "outputId": "fe14444f-2311-4f2d-efa9-2faf93d11860"
      },
      "outputs": [
        {
          "data": {
            "text/html": [
              "\n",
              "  <div id=\"df-e287d542-6d64-44e9-bfc5-9b6c142b4e7f\">\n",
              "    <div class=\"colab-df-container\">\n",
              "      <div>\n",
              "<style scoped>\n",
              "    .dataframe tbody tr th:only-of-type {\n",
              "        vertical-align: middle;\n",
              "    }\n",
              "\n",
              "    .dataframe tbody tr th {\n",
              "        vertical-align: top;\n",
              "    }\n",
              "\n",
              "    .dataframe thead th {\n",
              "        text-align: right;\n",
              "    }\n",
              "</style>\n",
              "<table border=\"1\" class=\"dataframe\">\n",
              "  <thead>\n",
              "    <tr style=\"text-align: right;\">\n",
              "      <th></th>\n",
              "      <th>id</th>\n",
              "      <th>ad_type</th>\n",
              "      <th>start_date</th>\n",
              "      <th>end_date</th>\n",
              "      <th>created_on</th>\n",
              "      <th>latitude</th>\n",
              "      <th>longitude</th>\n",
              "      <th>country</th>\n",
              "      <th>departments</th>\n",
              "      <th>city</th>\n",
              "      <th>...</th>\n",
              "      <th>bathrooms</th>\n",
              "      <th>surface_total</th>\n",
              "      <th>surface_covered</th>\n",
              "      <th>price</th>\n",
              "      <th>currency</th>\n",
              "      <th>price_period</th>\n",
              "      <th>title</th>\n",
              "      <th>description</th>\n",
              "      <th>property_type</th>\n",
              "      <th>operation_type</th>\n",
              "    </tr>\n",
              "  </thead>\n",
              "  <tbody>\n",
              "    <tr>\n",
              "      <th>count</th>\n",
              "      <td>1000000</td>\n",
              "      <td>1000000</td>\n",
              "      <td>1000000</td>\n",
              "      <td>1000000</td>\n",
              "      <td>1000000</td>\n",
              "      <td>740281.000000</td>\n",
              "      <td>740282.000000</td>\n",
              "      <td>1000000</td>\n",
              "      <td>1000000</td>\n",
              "      <td>937188</td>\n",
              "      <td>...</td>\n",
              "      <td>799493.000000</td>\n",
              "      <td>41242.000000</td>\n",
              "      <td>5.990900e+04</td>\n",
              "      <td>9.994910e+05</td>\n",
              "      <td>999450</td>\n",
              "      <td>121167</td>\n",
              "      <td>999988</td>\n",
              "      <td>999356</td>\n",
              "      <td>1000000</td>\n",
              "      <td>1000000</td>\n",
              "    </tr>\n",
              "    <tr>\n",
              "      <th>unique</th>\n",
              "      <td>1000000</td>\n",
              "      <td>1</td>\n",
              "      <td>371</td>\n",
              "      <td>449</td>\n",
              "      <td>371</td>\n",
              "      <td>NaN</td>\n",
              "      <td>NaN</td>\n",
              "      <td>2</td>\n",
              "      <td>32</td>\n",
              "      <td>343</td>\n",
              "      <td>...</td>\n",
              "      <td>NaN</td>\n",
              "      <td>NaN</td>\n",
              "      <td>NaN</td>\n",
              "      <td>NaN</td>\n",
              "      <td>3</td>\n",
              "      <td>1</td>\n",
              "      <td>364029</td>\n",
              "      <td>512446</td>\n",
              "      <td>9</td>\n",
              "      <td>3</td>\n",
              "    </tr>\n",
              "    <tr>\n",
              "      <th>top</th>\n",
              "      <td>KsjahK62rxcYKXXQjOdkqw==</td>\n",
              "      <td>Propiedad</td>\n",
              "      <td>2020-08-27</td>\n",
              "      <td>9999-12-31</td>\n",
              "      <td>2020-08-27</td>\n",
              "      <td>NaN</td>\n",
              "      <td>NaN</td>\n",
              "      <td>Colombia</td>\n",
              "      <td>Antioquia</td>\n",
              "      <td>Medellín</td>\n",
              "      <td>...</td>\n",
              "      <td>NaN</td>\n",
              "      <td>NaN</td>\n",
              "      <td>NaN</td>\n",
              "      <td>NaN</td>\n",
              "      <td>COP</td>\n",
              "      <td>Mensual</td>\n",
              "      <td>Apartamento en Arriendo Ubicado en MEDELLIN</td>\n",
              "      <td>En Rentahouse Finca Raiz contamos con más de 5...</td>\n",
              "      <td>Apartamento</td>\n",
              "      <td>Venta</td>\n",
              "    </tr>\n",
              "    <tr>\n",
              "      <th>freq</th>\n",
              "      <td>1</td>\n",
              "      <td>1000000</td>\n",
              "      <td>13627</td>\n",
              "      <td>143986</td>\n",
              "      <td>13627</td>\n",
              "      <td>NaN</td>\n",
              "      <td>NaN</td>\n",
              "      <td>999998</td>\n",
              "      <td>341453</td>\n",
              "      <td>262856</td>\n",
              "      <td>...</td>\n",
              "      <td>NaN</td>\n",
              "      <td>NaN</td>\n",
              "      <td>NaN</td>\n",
              "      <td>NaN</td>\n",
              "      <td>999402</td>\n",
              "      <td>121167</td>\n",
              "      <td>35411</td>\n",
              "      <td>847</td>\n",
              "      <td>565404</td>\n",
              "      <td>571884</td>\n",
              "    </tr>\n",
              "    <tr>\n",
              "      <th>mean</th>\n",
              "      <td>NaN</td>\n",
              "      <td>NaN</td>\n",
              "      <td>NaN</td>\n",
              "      <td>NaN</td>\n",
              "      <td>NaN</td>\n",
              "      <td>5.822493</td>\n",
              "      <td>-74.894785</td>\n",
              "      <td>NaN</td>\n",
              "      <td>NaN</td>\n",
              "      <td>NaN</td>\n",
              "      <td>...</td>\n",
              "      <td>2.414535</td>\n",
              "      <td>982.631225</td>\n",
              "      <td>1.502723e+03</td>\n",
              "      <td>4.069529e+08</td>\n",
              "      <td>NaN</td>\n",
              "      <td>NaN</td>\n",
              "      <td>NaN</td>\n",
              "      <td>NaN</td>\n",
              "      <td>NaN</td>\n",
              "      <td>NaN</td>\n",
              "    </tr>\n",
              "    <tr>\n",
              "      <th>std</th>\n",
              "      <td>NaN</td>\n",
              "      <td>NaN</td>\n",
              "      <td>NaN</td>\n",
              "      <td>NaN</td>\n",
              "      <td>NaN</td>\n",
              "      <td>2.239672</td>\n",
              "      <td>1.309072</td>\n",
              "      <td>NaN</td>\n",
              "      <td>NaN</td>\n",
              "      <td>NaN</td>\n",
              "      <td>...</td>\n",
              "      <td>1.412620</td>\n",
              "      <td>7013.950521</td>\n",
              "      <td>1.520965e+05</td>\n",
              "      <td>2.421719e+09</td>\n",
              "      <td>NaN</td>\n",
              "      <td>NaN</td>\n",
              "      <td>NaN</td>\n",
              "      <td>NaN</td>\n",
              "      <td>NaN</td>\n",
              "      <td>NaN</td>\n",
              "    </tr>\n",
              "    <tr>\n",
              "      <th>min</th>\n",
              "      <td>NaN</td>\n",
              "      <td>NaN</td>\n",
              "      <td>NaN</td>\n",
              "      <td>NaN</td>\n",
              "      <td>NaN</td>\n",
              "      <td>-75.640330</td>\n",
              "      <td>-180.000000</td>\n",
              "      <td>NaN</td>\n",
              "      <td>NaN</td>\n",
              "      <td>NaN</td>\n",
              "      <td>...</td>\n",
              "      <td>1.000000</td>\n",
              "      <td>10.000000</td>\n",
              "      <td>1.000000e+00</td>\n",
              "      <td>0.000000e+00</td>\n",
              "      <td>NaN</td>\n",
              "      <td>NaN</td>\n",
              "      <td>NaN</td>\n",
              "      <td>NaN</td>\n",
              "      <td>NaN</td>\n",
              "      <td>NaN</td>\n",
              "    </tr>\n",
              "    <tr>\n",
              "      <th>25%</th>\n",
              "      <td>NaN</td>\n",
              "      <td>NaN</td>\n",
              "      <td>NaN</td>\n",
              "      <td>NaN</td>\n",
              "      <td>NaN</td>\n",
              "      <td>4.642000</td>\n",
              "      <td>-75.603426</td>\n",
              "      <td>NaN</td>\n",
              "      <td>NaN</td>\n",
              "      <td>NaN</td>\n",
              "      <td>...</td>\n",
              "      <td>2.000000</td>\n",
              "      <td>64.000000</td>\n",
              "      <td>6.200000e+01</td>\n",
              "      <td>1.800000e+06</td>\n",
              "      <td>NaN</td>\n",
              "      <td>NaN</td>\n",
              "      <td>NaN</td>\n",
              "      <td>NaN</td>\n",
              "      <td>NaN</td>\n",
              "      <td>NaN</td>\n",
              "    </tr>\n",
              "    <tr>\n",
              "      <th>50%</th>\n",
              "      <td>NaN</td>\n",
              "      <td>NaN</td>\n",
              "      <td>NaN</td>\n",
              "      <td>NaN</td>\n",
              "      <td>NaN</td>\n",
              "      <td>5.047020</td>\n",
              "      <td>-75.107489</td>\n",
              "      <td>NaN</td>\n",
              "      <td>NaN</td>\n",
              "      <td>NaN</td>\n",
              "      <td>...</td>\n",
              "      <td>2.000000</td>\n",
              "      <td>100.000000</td>\n",
              "      <td>9.600000e+01</td>\n",
              "      <td>1.500000e+08</td>\n",
              "      <td>NaN</td>\n",
              "      <td>NaN</td>\n",
              "      <td>NaN</td>\n",
              "      <td>NaN</td>\n",
              "      <td>NaN</td>\n",
              "      <td>NaN</td>\n",
              "    </tr>\n",
              "    <tr>\n",
              "      <th>75%</th>\n",
              "      <td>NaN</td>\n",
              "      <td>NaN</td>\n",
              "      <td>NaN</td>\n",
              "      <td>NaN</td>\n",
              "      <td>NaN</td>\n",
              "      <td>6.336598</td>\n",
              "      <td>-74.055889</td>\n",
              "      <td>NaN</td>\n",
              "      <td>NaN</td>\n",
              "      <td>NaN</td>\n",
              "      <td>...</td>\n",
              "      <td>3.000000</td>\n",
              "      <td>223.750000</td>\n",
              "      <td>1.880000e+02</td>\n",
              "      <td>3.950000e+08</td>\n",
              "      <td>NaN</td>\n",
              "      <td>NaN</td>\n",
              "      <td>NaN</td>\n",
              "      <td>NaN</td>\n",
              "      <td>NaN</td>\n",
              "      <td>NaN</td>\n",
              "    </tr>\n",
              "    <tr>\n",
              "      <th>max</th>\n",
              "      <td>NaN</td>\n",
              "      <td>NaN</td>\n",
              "      <td>NaN</td>\n",
              "      <td>NaN</td>\n",
              "      <td>NaN</td>\n",
              "      <td>85.051129</td>\n",
              "      <td>100.477498</td>\n",
              "      <td>NaN</td>\n",
              "      <td>NaN</td>\n",
              "      <td>NaN</td>\n",
              "      <td>...</td>\n",
              "      <td>20.000000</td>\n",
              "      <td>200000.000000</td>\n",
              "      <td>3.152010e+07</td>\n",
              "      <td>1.600000e+12</td>\n",
              "      <td>NaN</td>\n",
              "      <td>NaN</td>\n",
              "      <td>NaN</td>\n",
              "      <td>NaN</td>\n",
              "      <td>NaN</td>\n",
              "      <td>NaN</td>\n",
              "    </tr>\n",
              "  </tbody>\n",
              "</table>\n",
              "<p>11 rows × 25 columns</p>\n",
              "</div>\n",
              "      <button class=\"colab-df-convert\" onclick=\"convertToInteractive('df-e287d542-6d64-44e9-bfc5-9b6c142b4e7f')\"\n",
              "              title=\"Convert this dataframe to an interactive table.\"\n",
              "              style=\"display:none;\">\n",
              "        \n",
              "  <svg xmlns=\"http://www.w3.org/2000/svg\" height=\"24px\"viewBox=\"0 0 24 24\"\n",
              "       width=\"24px\">\n",
              "    <path d=\"M0 0h24v24H0V0z\" fill=\"none\"/>\n",
              "    <path d=\"M18.56 5.44l.94 2.06.94-2.06 2.06-.94-2.06-.94-.94-2.06-.94 2.06-2.06.94zm-11 1L8.5 8.5l.94-2.06 2.06-.94-2.06-.94L8.5 2.5l-.94 2.06-2.06.94zm10 10l.94 2.06.94-2.06 2.06-.94-2.06-.94-.94-2.06-.94 2.06-2.06.94z\"/><path d=\"M17.41 7.96l-1.37-1.37c-.4-.4-.92-.59-1.43-.59-.52 0-1.04.2-1.43.59L10.3 9.45l-7.72 7.72c-.78.78-.78 2.05 0 2.83L4 21.41c.39.39.9.59 1.41.59.51 0 1.02-.2 1.41-.59l7.78-7.78 2.81-2.81c.8-.78.8-2.07 0-2.86zM5.41 20L4 18.59l7.72-7.72 1.47 1.35L5.41 20z\"/>\n",
              "  </svg>\n",
              "      </button>\n",
              "      \n",
              "  <style>\n",
              "    .colab-df-container {\n",
              "      display:flex;\n",
              "      flex-wrap:wrap;\n",
              "      gap: 12px;\n",
              "    }\n",
              "\n",
              "    .colab-df-convert {\n",
              "      background-color: #E8F0FE;\n",
              "      border: none;\n",
              "      border-radius: 50%;\n",
              "      cursor: pointer;\n",
              "      display: none;\n",
              "      fill: #1967D2;\n",
              "      height: 32px;\n",
              "      padding: 0 0 0 0;\n",
              "      width: 32px;\n",
              "    }\n",
              "\n",
              "    .colab-df-convert:hover {\n",
              "      background-color: #E2EBFA;\n",
              "      box-shadow: 0px 1px 2px rgba(60, 64, 67, 0.3), 0px 1px 3px 1px rgba(60, 64, 67, 0.15);\n",
              "      fill: #174EA6;\n",
              "    }\n",
              "\n",
              "    [theme=dark] .colab-df-convert {\n",
              "      background-color: #3B4455;\n",
              "      fill: #D2E3FC;\n",
              "    }\n",
              "\n",
              "    [theme=dark] .colab-df-convert:hover {\n",
              "      background-color: #434B5C;\n",
              "      box-shadow: 0px 1px 3px 1px rgba(0, 0, 0, 0.15);\n",
              "      filter: drop-shadow(0px 1px 2px rgba(0, 0, 0, 0.3));\n",
              "      fill: #FFFFFF;\n",
              "    }\n",
              "  </style>\n",
              "\n",
              "      <script>\n",
              "        const buttonEl =\n",
              "          document.querySelector('#df-e287d542-6d64-44e9-bfc5-9b6c142b4e7f button.colab-df-convert');\n",
              "        buttonEl.style.display =\n",
              "          google.colab.kernel.accessAllowed ? 'block' : 'none';\n",
              "\n",
              "        async function convertToInteractive(key) {\n",
              "          const element = document.querySelector('#df-e287d542-6d64-44e9-bfc5-9b6c142b4e7f');\n",
              "          const dataTable =\n",
              "            await google.colab.kernel.invokeFunction('convertToInteractive',\n",
              "                                                     [key], {});\n",
              "          if (!dataTable) return;\n",
              "\n",
              "          const docLinkHtml = 'Like what you see? Visit the ' +\n",
              "            '<a target=\"_blank\" href=https://colab.research.google.com/notebooks/data_table.ipynb>data table notebook</a>'\n",
              "            + ' to learn more about interactive tables.';\n",
              "          element.innerHTML = '';\n",
              "          dataTable['output_type'] = 'display_data';\n",
              "          await google.colab.output.renderOutput(dataTable, element);\n",
              "          const docLink = document.createElement('div');\n",
              "          docLink.innerHTML = docLinkHtml;\n",
              "          element.appendChild(docLink);\n",
              "        }\n",
              "      </script>\n",
              "    </div>\n",
              "  </div>\n",
              "  "
            ],
            "text/plain": [
              "                              id    ad_type  start_date    end_date  \\\n",
              "count                    1000000    1000000     1000000     1000000   \n",
              "unique                   1000000          1         371         449   \n",
              "top     KsjahK62rxcYKXXQjOdkqw==  Propiedad  2020-08-27  9999-12-31   \n",
              "freq                           1    1000000       13627      143986   \n",
              "mean                         NaN        NaN         NaN         NaN   \n",
              "std                          NaN        NaN         NaN         NaN   \n",
              "min                          NaN        NaN         NaN         NaN   \n",
              "25%                          NaN        NaN         NaN         NaN   \n",
              "50%                          NaN        NaN         NaN         NaN   \n",
              "75%                          NaN        NaN         NaN         NaN   \n",
              "max                          NaN        NaN         NaN         NaN   \n",
              "\n",
              "        created_on       latitude      longitude   country departments  \\\n",
              "count      1000000  740281.000000  740282.000000   1000000     1000000   \n",
              "unique         371            NaN            NaN         2          32   \n",
              "top     2020-08-27            NaN            NaN  Colombia   Antioquia   \n",
              "freq         13627            NaN            NaN    999998      341453   \n",
              "mean           NaN       5.822493     -74.894785       NaN         NaN   \n",
              "std            NaN       2.239672       1.309072       NaN         NaN   \n",
              "min            NaN     -75.640330    -180.000000       NaN         NaN   \n",
              "25%            NaN       4.642000     -75.603426       NaN         NaN   \n",
              "50%            NaN       5.047020     -75.107489       NaN         NaN   \n",
              "75%            NaN       6.336598     -74.055889       NaN         NaN   \n",
              "max            NaN      85.051129     100.477498       NaN         NaN   \n",
              "\n",
              "            city  ...      bathrooms  surface_total surface_covered  \\\n",
              "count     937188  ...  799493.000000   41242.000000    5.990900e+04   \n",
              "unique       343  ...            NaN            NaN             NaN   \n",
              "top     Medellín  ...            NaN            NaN             NaN   \n",
              "freq      262856  ...            NaN            NaN             NaN   \n",
              "mean         NaN  ...       2.414535     982.631225    1.502723e+03   \n",
              "std          NaN  ...       1.412620    7013.950521    1.520965e+05   \n",
              "min          NaN  ...       1.000000      10.000000    1.000000e+00   \n",
              "25%          NaN  ...       2.000000      64.000000    6.200000e+01   \n",
              "50%          NaN  ...       2.000000     100.000000    9.600000e+01   \n",
              "75%          NaN  ...       3.000000     223.750000    1.880000e+02   \n",
              "max          NaN  ...      20.000000  200000.000000    3.152010e+07   \n",
              "\n",
              "               price  currency  price_period  \\\n",
              "count   9.994910e+05    999450        121167   \n",
              "unique           NaN         3             1   \n",
              "top              NaN       COP       Mensual   \n",
              "freq             NaN    999402        121167   \n",
              "mean    4.069529e+08       NaN           NaN   \n",
              "std     2.421719e+09       NaN           NaN   \n",
              "min     0.000000e+00       NaN           NaN   \n",
              "25%     1.800000e+06       NaN           NaN   \n",
              "50%     1.500000e+08       NaN           NaN   \n",
              "75%     3.950000e+08       NaN           NaN   \n",
              "max     1.600000e+12       NaN           NaN   \n",
              "\n",
              "                                              title  \\\n",
              "count                                        999988   \n",
              "unique                                       364029   \n",
              "top     Apartamento en Arriendo Ubicado en MEDELLIN   \n",
              "freq                                          35411   \n",
              "mean                                            NaN   \n",
              "std                                             NaN   \n",
              "min                                             NaN   \n",
              "25%                                             NaN   \n",
              "50%                                             NaN   \n",
              "75%                                             NaN   \n",
              "max                                             NaN   \n",
              "\n",
              "                                              description  property_type  \\\n",
              "count                                              999356        1000000   \n",
              "unique                                             512446              9   \n",
              "top     En Rentahouse Finca Raiz contamos con más de 5...    Apartamento   \n",
              "freq                                                  847         565404   \n",
              "mean                                                  NaN            NaN   \n",
              "std                                                   NaN            NaN   \n",
              "min                                                   NaN            NaN   \n",
              "25%                                                   NaN            NaN   \n",
              "50%                                                   NaN            NaN   \n",
              "75%                                                   NaN            NaN   \n",
              "max                                                   NaN            NaN   \n",
              "\n",
              "       operation_type  \n",
              "count         1000000  \n",
              "unique              3  \n",
              "top             Venta  \n",
              "freq           571884  \n",
              "mean              NaN  \n",
              "std               NaN  \n",
              "min               NaN  \n",
              "25%               NaN  \n",
              "50%               NaN  \n",
              "75%               NaN  \n",
              "max               NaN  \n",
              "\n",
              "[11 rows x 25 columns]"
            ]
          },
          "execution_count": 104,
          "metadata": {},
          "output_type": "execute_result"
        }
      ],
      "source": [
        "# Obtener el resumen estadístico de todas las columnas de \"df\" \n",
        "df.describe(include = \"all\")"
      ],
      "id": "b8m4zqaoxiQI"
    },
    {
      "cell_type": "code",
      "execution_count": null,
      "metadata": {
        "colab": {
          "base_uri": "https://localhost:8080/"
        },
        "id": "Kwvu3KLzex_8",
        "outputId": "bf14043f-faa5-45e2-ac11-67e6f66884c3"
      },
      "outputs": [
        {
          "name": "stdout",
          "output_type": "stream",
          "text": [
            "id                 1000000\n",
            "ad_type                  1\n",
            "start_date             371\n",
            "end_date               449\n",
            "created_on             371\n",
            "latitude            168888\n",
            "longitude           164767\n",
            "country                  2\n",
            "departments             32\n",
            "city                   343\n",
            "neighbourhood           64\n",
            "l5                      20\n",
            "l6                     164\n",
            "rooms                   37\n",
            "bedrooms                59\n",
            "bathrooms               20\n",
            "surface_total         2147\n",
            "surface_covered       1513\n",
            "price                20110\n",
            "currency                 3\n",
            "price_period             1\n",
            "title               364029\n",
            "description         512446\n",
            "property_type            9\n",
            "operation_type           3\n",
            "dtype: int64\n"
          ]
        }
      ],
      "source": [
        "# Obtener la lista de valores únicos\n",
        "uniqueValues = df.nunique()\n",
        "print(uniqueValues)"
      ],
      "id": "Kwvu3KLzex_8"
    },
    {
      "cell_type": "markdown",
      "metadata": {
        "id": "5jCq4jXKupls"
      },
      "source": [
        "### **Exploración de los datos**\n",
        "- **Reporte de exploración de datos**"
      ],
      "id": "5jCq4jXKupls"
    },
    {
      "cell_type": "code",
      "execution_count": null,
      "metadata": {
        "colab": {
          "base_uri": "https://localhost:8080/",
          "height": 624
        },
        "id": "1SdZS4g-0Q5f",
        "outputId": "3d8b208a-14c6-4331-87d4-cafea790b9e8"
      },
      "outputs": [
        {
          "data": {
            "text/plain": [
              "array([[<Axes: title={'center': 'rooms'}>]], dtype=object)"
            ]
          },
          "execution_count": 42,
          "metadata": {},
          "output_type": "execute_result"
        },
        {
          "data": {
            "image/png": "[encoded data removed]",
            "text/plain": [
              "<Figure size 720x720 with 1 Axes>"
            ]
          },
          "metadata": {},
          "output_type": "display_data"
        }
      ],
      "source": [
        "# Histograma del número de rooms\n",
        "num_bins = 50 #Número de columnas del histograma\n",
        "df.hist(column='rooms', bins=num_bins, figsize=(10,10))"
      ],
      "id": "1SdZS4g-0Q5f"
    },
    {
      "cell_type": "code",
      "execution_count": null,
      "metadata": {
        "colab": {
          "base_uri": "https://localhost:8080/",
          "height": 624
        },
        "id": "GpH4Z5KNHAca",
        "outputId": "c44d1e81-b20a-40cc-8f1d-fad5e550ae5e"
      },
      "outputs": [
        {
          "data": {
            "text/plain": [
              "array([[<Axes: title={'center': 'bathrooms'}>]], dtype=object)"
            ]
          },
          "execution_count": 43,
          "metadata": {},
          "output_type": "execute_result"
        },
        {
          "data": {
            "image/png": "[encoded data removed]",
            "text/plain": [
              "<Figure size 720x720 with 1 Axes>"
            ]
          },
          "metadata": {},
          "output_type": "display_data"
        }
      ],
      "source": [
        "# Histograma del número de baños\n",
        "num_bins = 50 #Número de columnas del histograma\n",
        "df.hist(column='bathrooms', bins=num_bins, figsize=(10,10))"
      ],
      "id": "GpH4Z5KNHAca"
    },
    {
      "cell_type": "code",
      "execution_count": null,
      "metadata": {
        "colab": {
          "base_uri": "https://localhost:8080/",
          "height": 627
        },
        "id": "RwmsCWiqHlRr",
        "outputId": "ff509e5d-690f-47b1-8877-8edbf8316c80"
      },
      "outputs": [
        {
          "data": {
            "text/plain": [
              "array([[<Axes: title={'center': 'bedrooms'}>]], dtype=object)"
            ]
          },
          "execution_count": 24,
          "metadata": {},
          "output_type": "execute_result"
        },
        {
          "data": {
            "image/png": "[encoded data removed]",
            "text/plain": [
              "<Figure size 720x720 with 1 Axes>"
            ]
          },
          "metadata": {},
          "output_type": "display_data"
        }
      ],
      "source": [
        "# Histograma del número de habitaciones\n",
        "num_bins = 50 #Número de columnas del histograma\n",
        "df.hist(column='bedrooms', bins=num_bins, figsize=(10,10))  #Histograma "
      ],
      "id": "RwmsCWiqHlRr"
    },
    {
      "cell_type": "code",
      "execution_count": null,
      "metadata": {
        "colab": {
          "base_uri": "https://localhost:8080/",
          "height": 250
        },
        "id": "c5djjkUv67Bh",
        "outputId": "0a17150c-b406-4c4f-fa5d-0254d1a9b46a"
      },
      "outputs": [
        {
          "data": {
            "image/png": "[encoded data removed]",
            "text/plain": [
              "<Figure size 432x288 with 1 Axes>"
            ]
          },
          "metadata": {},
          "output_type": "display_data"
        }
      ],
      "source": [
        "# Gráfico circular de los 5 departamentos con más anuncios\n",
        "fig1, ax1 = plt.subplots()\n",
        "top_depa = df['departments'].value_counts().nlargest(5)\n",
        "ax1.pie(top_depa, labels=top_depa.index, autopct='%1.1f%%',\n",
        "        shadow=True, startangle=90)\n",
        "ax1.axis('equal')  # Equal aspect ratio ensures that pie is drawn as a circle.\n",
        "\n",
        "plt.show()"
      ],
      "id": "c5djjkUv67Bh"
    },
    {
      "cell_type": "code",
      "execution_count": null,
      "metadata": {
        "colab": {
          "base_uri": "https://localhost:8080/",
          "height": 253
        },
        "id": "m-CzWpha79E2",
        "outputId": "a2f11e69-1244-41e6-acb8-48cf1672ed11"
      },
      "outputs": [
        {
          "data": {
            "image/png": "[encoded data removed]",
            "text/plain": [
              "<Figure size 432x288 with 1 Axes>"
            ]
          },
          "metadata": {},
          "output_type": "display_data"
        }
      ],
      "source": [
        "# Gráfico circular de las 5 ciudades con más anuncios\n",
        "fig2, ax2 = plt.subplots()\n",
        "top_city = df['city'].value_counts().nlargest(5)\n",
        "ax2.pie(top_city, labels=top_city.index, autopct='%1.1f%%',\n",
        "        shadow=True, startangle=90)\n",
        "ax2.axis('equal')  # Equal aspect ratio ensures that pie is drawn as a circle.\n",
        "\n",
        "plt.show()"
      ],
      "id": "m-CzWpha79E2"
    },
    {
      "cell_type": "code",
      "execution_count": null,
      "metadata": {
        "colab": {
          "base_uri": "https://localhost:8080/",
          "height": 641
        },
        "id": "Xj5v8AkS4sm_",
        "outputId": "b2d74d50-a678-4a5c-b155-5a1d10af732c"
      },
      "outputs": [
        {
          "data": {
            "text/plain": [
              "Text(0.5, 1.0, 'Histograma')"
            ]
          },
          "execution_count": 29,
          "metadata": {},
          "output_type": "execute_result"
        },
        {
          "data": {
            "image/png": "[encoded data removed]",
            "text/plain": [
              "<Figure size 1080x1080 with 1 Axes>"
            ]
          },
          "metadata": {},
          "output_type": "display_data"
        }
      ],
      "source": [
        "# Histograma que relaciona los departamentos con el tipo de propiedad\n",
        "plt.figure(figsize=(15,15))\n",
        "sns.histplot(data     = df, \n",
        "             x        = 'property_type',\n",
        "             bins     = 30,\n",
        "             hue      = 'departments',\n",
        "             fill     = True,\n",
        "             stat     = 'count')  #'count' muestra el número de observaciones\n",
        "\n",
        "plt.xlabel('property_type')\n",
        "plt.ylabel('Cuentas')\n",
        "plt.title('Histograma')"
      ],
      "id": "Xj5v8AkS4sm_"
    },
    {
      "cell_type": "code",
      "execution_count": null,
      "metadata": {
        "colab": {
          "base_uri": "https://localhost:8080/",
          "height": 931
        },
        "id": "r1rQzO8g7BGG",
        "outputId": "b2ed1a83-4969-45bb-96eb-3efea637292b"
      },
      "outputs": [
        {
          "data": {
            "text/plain": [
              "Text(0.5, 1.0, 'Histograma')"
            ]
          },
          "execution_count": 33,
          "metadata": {},
          "output_type": "execute_result"
        },
        {
          "data": {
            "image/png": "[encoded data removed]",
            "text/plain": [
              "<Figure size 1080x1080 with 1 Axes>"
            ]
          },
          "metadata": {},
          "output_type": "display_data"
        }
      ],
      "source": [
        "# Histograma que relaciona los departamentos con el tipo de operación \n",
        "plt.figure(figsize=(15,15))\n",
        "sns.histplot(data     = df, \n",
        "             x        = 'departments',\n",
        "             bins     = 30,\n",
        "             hue      = 'operation_type',\n",
        "             fill     = True,\n",
        "             stat     = 'count')  #'count' muestra el número de observaciones.\n",
        "                              #'frequency' muestra el número de observaciones dividida por el ancho del bin.\n",
        "                              #'density' normaliza las cuentas tal que el área del histograma es 1.\n",
        "                              #'probability' normaliza las cuentas tal que la suma de la altura de las barras es 1.\n",
        "\n",
        "plt.xlabel('departments') #Texto en el eje x.\n",
        "plt.ylabel('Cuentas')              #Texto en el eje y.\n",
        "plt.title('Histograma')             #Título del gráfico. "
      ],
      "id": "r1rQzO8g7BGG"
    },
    {
      "cell_type": "code",
      "execution_count": null,
      "metadata": {
        "colab": {
          "base_uri": "https://localhost:8080/",
          "height": 665
        },
        "id": "BkokyeXq-pTA",
        "outputId": "ee6cdde9-c977-49ac-af54-2df0bbed62d3"
      },
      "outputs": [
        {
          "data": {
            "image/png": "[encoded data removed]",
            "text/plain": [
              "<Figure size 720x720 with 2 Axes>"
            ]
          },
          "metadata": {},
          "output_type": "display_data"
        }
      ],
      "source": [
        "# Diagrama de correlación \n",
        "sns.set (rc = {'figure.figsize':(10, 10)})\n",
        "ax = sns.heatmap(df.corr(),annot=True,cmap='RdYlGn')"
      ],
      "id": "BkokyeXq-pTA"
    },
    {
      "cell_type": "code",
      "execution_count": null,
      "metadata": {
        "colab": {
          "base_uri": "https://localhost:8080/",
          "height": 410
        },
        "id": "Y6cB1tUeFJSg",
        "outputId": "eac8feda-9c93-4c0e-e87a-cac4542ffdbc"
      },
      "outputs": [
        {
          "data": {
            "image/png": "[encoded data removed]",
            "text/plain": [
              "<Figure size 576x432 with 1 Axes>"
            ]
          },
          "metadata": {},
          "output_type": "display_data"
        }
      ],
      "source": [
        "# Relaciones con repecto al precio\n",
        "corr_matrix = df.corr()\n",
        "fig, ax = plt.subplots(figsize=(8, 6))\n",
        "colors = ['blue', 'green', 'pink']\n",
        "ax = corr_matrix['price'].sort_values().plot(kind='barh', color=colors)\n",
        "ax.spines['right'].set_visible(False)\n",
        "ax.spines['top'].set_visible(False)\n",
        "ax.set_xlabel('Correlation')\n",
        "ax.set_ylabel('Feature')\n",
        "ax.set_title('Price Correlations')\n",
        "plt.show()"
      ],
      "id": "Y6cB1tUeFJSg"
    },
    {
      "cell_type": "markdown",
      "metadata": {
        "id": "XjPzbc_buqzm"
      },
      "source": [
        "### **Verificar la calidad de los datos**\n",
        "- **Reporte de calidad de datos**\n",
        " "
      ],
      "id": "XjPzbc_buqzm"
    },
    {
      "cell_type": "code",
      "execution_count": null,
      "metadata": {
        "colab": {
          "base_uri": "https://localhost:8080/"
        },
        "id": "Xe0VfOvPDrNG",
        "outputId": "c9c24838-e1b3-4ab9-d6ad-e249a64d08e7"
      },
      "outputs": [
        {
          "output_type": "stream",
          "name": "stdout",
          "text": [
            "EL porcentaje de valores nulos en id es: 0.00\n",
            "EL porcentaje de valores nulos en ad_type es: 0.00\n",
            "EL porcentaje de valores nulos en start_date es: 0.00\n",
            "EL porcentaje de valores nulos en end_date es: 0.00\n",
            "EL porcentaje de valores nulos en created_on es: 0.00\n",
            "EL porcentaje de valores nulos en latitude es: 25.97\n",
            "EL porcentaje de valores nulos en longitude es: 25.97\n",
            "EL porcentaje de valores nulos en country es: 0.00\n",
            "EL porcentaje de valores nulos en departments es: 0.00\n",
            "EL porcentaje de valores nulos en city es: 6.28\n",
            "EL porcentaje de valores nulos en neighbourhood es: 72.60\n",
            "EL porcentaje de valores nulos en l5 es: 84.09\n",
            "EL porcentaje de valores nulos en l6 es: 94.53\n",
            "EL porcentaje de valores nulos en rooms es: 82.79\n",
            "EL porcentaje de valores nulos en bedrooms es: 62.40\n",
            "EL porcentaje de valores nulos en bathrooms es: 20.05\n",
            "EL porcentaje de valores nulos en surface_total es: 95.88\n",
            "EL porcentaje de valores nulos en surface_covered es: 94.01\n",
            "EL porcentaje de valores nulos en price es: 0.05\n",
            "EL porcentaje de valores nulos en currency es: 0.06\n",
            "EL porcentaje de valores nulos en price_period es: 87.88\n",
            "EL porcentaje de valores nulos en title es: 0.00\n",
            "EL porcentaje de valores nulos en description es: 0.06\n",
            "EL porcentaje de valores nulos en property_type es: 0.00\n",
            "EL porcentaje de valores nulos en operation_type es: 0.00\n"
          ]
        }
      ],
      "source": [
        "# Lista de los valores nulos en porcentaje\n",
        "nan = df.isna().sum()\n",
        "for i in range(nan.shape[0]):\n",
        "    print('EL porcentaje de valores nulos en {} es: {:.2f}'.format(df.columns[i],100*(nan[i]/df.shape[0])))"
      ],
      "id": "Xe0VfOvPDrNG"
    },
    {
      "cell_type": "markdown",
      "metadata": {
        "id": "579d62d1"
      },
      "source": [
        "### **Outliers**"
      ],
      "id": "579d62d1"
    },
    {
      "cell_type": "code",
      "execution_count": null,
      "metadata": {
        "colab": {
          "base_uri": "https://localhost:8080/",
          "height": 296
        },
        "id": "c1f2eef8",
        "outputId": "0d76d079-f0b6-4f3f-a21c-738f0afd87d5"
      },
      "outputs": [
        {
          "name": "stdout",
          "output_type": "stream",
          "text": [
            "The following are the outliers in price : []\n"
          ]
        },
        {
          "data": {
            "image/png": "[encoded data removed]",
            "text/plain": [
              "<Figure size 432x288 with 1 Axes>"
            ]
          },
          "metadata": {},
          "output_type": "display_data"
        }
      ],
      "source": [
        "atr = 'price'\n",
        "ax = sns.boxplot(x=df[atr])\n",
        "\n",
        "arr1 = df[atr].values\n",
        "\n",
        "# Encontrar el 1st quartil\n",
        "q1 = np.quantile(arr1, 0.25)\n",
        " \n",
        "# Encontrar el 3rd quartil\n",
        "q3 = np.quantile(arr1, 0.75)\n",
        "\n",
        "# Encontrar el 2nd quartil\n",
        "med = np.median(arr1)\n",
        " \n",
        "# Encontrar el rango inter quartil (iqr)\n",
        "iqr = q3-q1\n",
        " \n",
        "# Encontrar los bigotes superior e inferior\n",
        "upper_bound = q3+(1.5*iqr)\n",
        "lower_bound = q1-(1.5*iqr)\n",
        "\n",
        "outliers = arr1[(arr1 <= lower_bound) | (arr1 >= upper_bound)]\n",
        "print('The following are the outliers in {} : {}'.format(atr,outliers))"
      ],
      "id": "c1f2eef8"
    },
    {
      "cell_type": "code",
      "execution_count": null,
      "metadata": {
        "colab": {
          "base_uri": "https://localhost:8080/",
          "height": 296
        },
        "id": "3c321299",
        "outputId": "495d30a4-0f14-4874-d328-339dd303c807"
      },
      "outputs": [
        {
          "name": "stdout",
          "output_type": "stream",
          "text": [
            "The following are the outliers in bedrooms : []\n"
          ]
        },
        {
          "data": {
            "image/png": "[encoded data removed]",
            "text/plain": [
              "<Figure size 432x288 with 1 Axes>"
            ]
          },
          "metadata": {},
          "output_type": "display_data"
        }
      ],
      "source": [
        "atr = 'bedrooms'\n",
        "ax = sns.boxplot(x=df[atr])\n",
        "\n",
        "arr1 = df[atr].values\n",
        "\n",
        "# Encontrar el 1st quartil\n",
        "q1 = np.quantile(arr1, 0.25)\n",
        " \n",
        "# Encontrar el 3rd quartil\n",
        "q3 = np.quantile(arr1, 0.75)\n",
        "\n",
        "# Encontrar el 2nd quartil\n",
        "med = np.median(arr1)\n",
        " \n",
        "# Encontrar el rango inter quartil (iqr)\n",
        "iqr = q3-q1\n",
        " \n",
        "# Encontrar los bigotes superior e inferior\n",
        "upper_bound = q3+(1.5*iqr)\n",
        "lower_bound = q1-(1.5*iqr)\n",
        "\n",
        "outliers = arr1[(arr1 <= lower_bound) | (arr1 >= upper_bound)]\n",
        "print('The following are the outliers in {} : {}'.format(atr,outliers))"
      ],
      "id": "3c321299"
    },
    {
      "cell_type": "code",
      "execution_count": null,
      "metadata": {
        "colab": {
          "base_uri": "https://localhost:8080/",
          "height": 296
        },
        "id": "c0b50548",
        "outputId": "42964d13-c399-4e4f-abef-fceaf240434d",
        "scrolled": true
      },
      "outputs": [
        {
          "name": "stdout",
          "output_type": "stream",
          "text": [
            "The following are the outliers in bathrooms : []\n"
          ]
        },
        {
          "data": {
            "image/png": "[encoded data removed]",
            "text/plain": [
              "<Figure size 432x288 with 1 Axes>"
            ]
          },
          "metadata": {},
          "output_type": "display_data"
        }
      ],
      "source": [
        "atr = 'bathrooms'\n",
        "ax = sns.boxplot(x=df[atr])\n",
        "\n",
        "arr1 = df[atr].values\n",
        "\n",
        "# Encontrar el 1st quartil\n",
        "q1 = np.quantile(arr1, 0.25)\n",
        " \n",
        "# Encontrar el 3rd quartil\n",
        "q3 = np.quantile(arr1, 0.75)\n",
        "\n",
        "# Encontrar el 2nd quartil\n",
        "med = np.median(arr1)\n",
        " \n",
        "# Encontrar el rango inter quartil (iqr)\n",
        "iqr = q3-q1\n",
        " \n",
        "# Encontrar los bigotes superior e inferior\n",
        "upper_bound = q3+(1.5*iqr)\n",
        "lower_bound = q1-(1.5*iqr)\n",
        "\n",
        "outliers = arr1[(arr1 <= lower_bound) | (arr1 >= upper_bound)]\n",
        "print('The following are the outliers in {} : {}'.format(atr,outliers))"
      ],
      "id": "c0b50548"
    },
    {
      "cell_type": "markdown",
      "metadata": {
        "id": "lBYvxIJL1HxF"
      },
      "source": [
        "# **Preparación de los datos**\n",
        "\n",
        "---\n",
        "\n",
        "\n",
        "Resultados del análisis exploratorio de los datos\n",
        "\n",
        "\n"
      ],
      "id": "lBYvxIJL1HxF"
    },
    {
      "cell_type": "code",
      "execution_count": null,
      "metadata": {
        "id": "40fe2991"
      },
      "outputs": [],
      "source": [
        "## Se crea una copia del dataframe original\n",
        "df_clean = df.copy()"
      ],
      "id": "40fe2991"
    },
    {
      "cell_type": "code",
      "execution_count": null,
      "metadata": {
        "colab": {
          "base_uri": "https://localhost:8080/"
        },
        "id": "48742fb3",
        "outputId": "6be39f7c-82cd-4240-902f-6f11269e599a"
      },
      "outputs": [
        {
          "output_type": "execute_result",
          "data": {
            "text/plain": [
              "(1000000, 25)"
            ]
          },
          "metadata": {},
          "execution_count": 173
        }
      ],
      "source": [
        "df_clean.shape"
      ],
      "id": "48742fb3"
    },
    {
      "cell_type": "markdown",
      "metadata": {
        "id": "Sfkp-BPOY-BO"
      },
      "source": [
        "### **Identificar y manejar valores perdidos**"
      ],
      "id": "Sfkp-BPOY-BO"
    },
    {
      "cell_type": "code",
      "execution_count": null,
      "metadata": {
        "colab": {
          "base_uri": "https://localhost:8080/"
        },
        "id": "dTgn0LfLaWJa",
        "outputId": "72e8cd44-fa75-4f48-a43c-027630e435c6"
      },
      "outputs": [
        {
          "output_type": "stream",
          "name": "stdout",
          "text": [
            "id\n",
            "False    1000000\n",
            "Name: id, dtype: int64\n",
            "\n",
            "ad_type\n",
            "False    1000000\n",
            "Name: ad_type, dtype: int64\n",
            "\n",
            "start_date\n",
            "False    1000000\n",
            "Name: start_date, dtype: int64\n",
            "\n",
            "end_date\n",
            "False    1000000\n",
            "Name: end_date, dtype: int64\n",
            "\n",
            "created_on\n",
            "False    1000000\n",
            "Name: created_on, dtype: int64\n",
            "\n",
            "latitude\n",
            "False    740281\n",
            "True     259719\n",
            "Name: latitude, dtype: int64\n",
            "\n",
            "longitude\n",
            "False    740282\n",
            "True     259718\n",
            "Name: longitude, dtype: int64\n",
            "\n",
            "country\n",
            "False    1000000\n",
            "Name: country, dtype: int64\n",
            "\n",
            "departments\n",
            "False    1000000\n",
            "Name: departments, dtype: int64\n",
            "\n",
            "city\n",
            "False    937188\n",
            "True      62812\n",
            "Name: city, dtype: int64\n",
            "\n",
            "neighbourhood\n",
            "True     726005\n",
            "False    273995\n",
            "Name: neighbourhood, dtype: int64\n",
            "\n",
            "l5\n",
            "True     840873\n",
            "False    159127\n",
            "Name: l5, dtype: int64\n",
            "\n",
            "l6\n",
            "True     945253\n",
            "False     54747\n",
            "Name: l6, dtype: int64\n",
            "\n",
            "rooms\n",
            "True     827913\n",
            "False    172087\n",
            "Name: rooms, dtype: int64\n",
            "\n",
            "bedrooms\n",
            "True     623954\n",
            "False    376046\n",
            "Name: bedrooms, dtype: int64\n",
            "\n",
            "bathrooms\n",
            "False    799493\n",
            "True     200507\n",
            "Name: bathrooms, dtype: int64\n",
            "\n",
            "surface_total\n",
            "True     958758\n",
            "False     41242\n",
            "Name: surface_total, dtype: int64\n",
            "\n",
            "surface_covered\n",
            "True     940091\n",
            "False     59909\n",
            "Name: surface_covered, dtype: int64\n",
            "\n",
            "price\n",
            "False    999491\n",
            "True        509\n",
            "Name: price, dtype: int64\n",
            "\n",
            "currency\n",
            "False    999450\n",
            "True        550\n",
            "Name: currency, dtype: int64\n",
            "\n",
            "price_period\n",
            "True     878833\n",
            "False    121167\n",
            "Name: price_period, dtype: int64\n",
            "\n",
            "title\n",
            "False    999988\n",
            "True         12\n",
            "Name: title, dtype: int64\n",
            "\n",
            "description\n",
            "False    999356\n",
            "True        644\n",
            "Name: description, dtype: int64\n",
            "\n",
            "property_type\n",
            "False    1000000\n",
            "Name: property_type, dtype: int64\n",
            "\n",
            "operation_type\n",
            "False    1000000\n",
            "Name: operation_type, dtype: int64\n",
            "\n"
          ]
        }
      ],
      "source": [
        "## Se buscan los valores nulos en el dataframe. \"True\" representa un valor faltante\n",
        "missing_data = df_clean.isnull()\n",
        "for column in missing_data.columns.values.tolist():\n",
        "    print(column)\n",
        "    print (missing_data[column].value_counts())\n",
        "    print(\"\") "
      ],
      "id": "dTgn0LfLaWJa"
    },
    {
      "cell_type": "markdown",
      "metadata": {
        "id": "p7vu0zdvazYr"
      },
      "source": [
        "Según el resultado anterior, cada columna tiene 100000 de filas de datos, y existen 16 filas que contienen valores perdidos:\n",
        "- latitude: 259719\n",
        "- longitude: 259718\n",
        "- city: 62812\n",
        "- neighbourhood: 726005\n",
        "- l5: 840873\n",
        "- l6: 945253\n",
        "- rooms: 827913\n",
        "- bedrooms: 623954\n",
        "- bathrooms: 200507\n",
        "- surface_total: 958758\n",
        "- surface_covered: 940091\n",
        "- price: 509\n",
        "- currency: 550\n",
        "- price_period: 878833\n",
        "- title: 12\n",
        "- description: 644\n"
      ],
      "id": "p7vu0zdvazYr"
    },
    {
      "cell_type": "code",
      "execution_count": null,
      "metadata": {
        "colab": {
          "base_uri": "https://localhost:8080/"
        },
        "id": "5PmSHEpEdA2H",
        "outputId": "2f3864f5-aaf8-48f7-f947-181faf5a0dbc"
      },
      "outputs": [
        {
          "data": {
            "text/plain": [
              "id                      0\n",
              "ad_type                 0\n",
              "start_date              0\n",
              "end_date                0\n",
              "created_on              0\n",
              "latitude           259719\n",
              "longitude          259718\n",
              "country                 0\n",
              "departments             0\n",
              "city                62812\n",
              "neighbourhood      726005\n",
              "l5                 840873\n",
              "l6                 945253\n",
              "rooms              827913\n",
              "bedrooms           623954\n",
              "bathrooms          200507\n",
              "surface_total      958758\n",
              "surface_covered    940091\n",
              "price                 509\n",
              "currency              550\n",
              "price_period       878833\n",
              "title                  12\n",
              "description           644\n",
              "property_type           0\n",
              "operation_type          0\n",
              "dtype: int64"
            ]
          },
          "execution_count": 14,
          "metadata": {},
          "output_type": "execute_result"
        }
      ],
      "source": [
        "# Número de nulos por cada variable\n",
        "df_clean.isna().sum()"
      ],
      "id": "5PmSHEpEdA2H"
    },
    {
      "cell_type": "markdown",
      "metadata": {
        "id": "DliVvbbEdLS_"
      },
      "source": [
        "### **Lidiar con valores perdidos**"
      ],
      "id": "DliVvbbEdLS_"
    },
    {
      "cell_type": "code",
      "execution_count": null,
      "metadata": {
        "id": "kENllj7ydKc6"
      },
      "outputs": [],
      "source": [
        "# En el conjunto de datos, las columnas \"l5\", \"l6\", \"rooms\", \"surface_total\", \"surface_covered\", \"price_period\" y 'neighbourhood'\n",
        "# contienen valores que, en su mayoría, están vacíos, por lo que se eliminan.\n",
        "# Además, como el 100% de los valores de las columnas \"ad_type\" es \"Propiedad\", de la columna \"currency\" es \"COP\" y de la columna \"country\" es \"Colombia\" se pueden eliminar\n",
        "df_clean = df_clean.drop(['l5','l6','rooms','surface_total','surface_covered','price_period', 'neighbourhood', 'description', 'title', 'ad_type', 'currency', 'country'], axis=1)"
      ],
      "id": "kENllj7ydKc6"
    },
    {
      "cell_type": "code",
      "execution_count": null,
      "metadata": {
        "id": "J4S1XzAwjy4s"
      },
      "outputs": [],
      "source": [
        "# Como la variable \"price\" es la que se quiere predecir, cualquier instancia sin precio no puede ser utilizada porque no será util para aprender de ella.\n",
        "# Se elimina la fila/instancia completa que tiene valor NaN en la columna \"price\" \n",
        "df_clean.dropna(subset=[\"price\"], axis=0, inplace=True)"
      ],
      "id": "J4S1XzAwjy4s"
    },
    {
      "cell_type": "code",
      "execution_count": null,
      "metadata": {
        "id": "yGhebG6kudUe"
      },
      "outputs": [],
      "source": [
        "## Eliminar filas donde los valores de 'latitude' y 'longitude' sean nulos\n",
        "df_clean.dropna(subset=['latitude'], inplace=True)\n",
        "df_clean.dropna(subset=['longitude'], inplace=True)"
      ],
      "id": "yGhebG6kudUe"
    },
    {
      "cell_type": "code",
      "execution_count": null,
      "metadata": {
        "id": "cLFVZx1VgzO3"
      },
      "outputs": [],
      "source": [
        "## Se restablece el índice del dataframe porque se eliminaron filas\n",
        "df_clean.reset_index(drop=True, inplace=True)"
      ],
      "id": "cLFVZx1VgzO3"
    },
    {
      "cell_type": "code",
      "execution_count": null,
      "metadata": {
        "colab": {
          "base_uri": "https://localhost:8080/",
          "height": 357
        },
        "id": "LqDd4KGZhAcF",
        "outputId": "2be45b2d-837d-42b0-fe43-966872e86f32"
      },
      "outputs": [
        {
          "output_type": "execute_result",
          "data": {
            "text/plain": [
              "                         id  start_date    end_date  created_on  latitude  \\\n",
              "0  KsjahK62rxcYKXXQjOdkqw==  2020-10-07  2021-10-09  2020-10-07    3.9210   \n",
              "1  Y+gsBZYq1zu5NoR3V5oUGA==  2020-10-07  2021-01-06  2020-10-07    3.3577   \n",
              "2  Jpzqxj8/Vgf3Aa5ASxUBNg==  2020-10-07  2020-10-07  2020-10-07    3.3577   \n",
              "3  ieuFnkFx/yHDD66iMV14Gw==  2020-10-07  2021-04-12  2020-10-07    3.3640   \n",
              "4  g4u5JM+hAHEk8SukRSjMzg==  2020-10-07  9999-12-31  2020-10-07    3.3910   \n",
              "\n",
              "   longitude      departments  city  bedrooms  bathrooms         price  \\\n",
              "0 -76.506000  Valle del Cauca   NaN       6.0        7.0  1.300000e+09   \n",
              "1 -76.541811  Valle del Cauca  Cali       NaN        7.0  2.800000e+09   \n",
              "2 -76.541811  Valle del Cauca  Cali       NaN        7.0  2.800000e+09   \n",
              "3 -76.538000  Valle del Cauca  Cali       5.0        8.0  3.500000e+09   \n",
              "4 -76.517000  Valle del Cauca  Cali       8.0        9.0  4.800000e+08   \n",
              "\n",
              "  property_type operation_type  \n",
              "0          Casa          Venta  \n",
              "1          Casa          Venta  \n",
              "2          Casa          Venta  \n",
              "3          Casa          Venta  \n",
              "4          Casa          Venta  "
            ],
            "text/html": [
              "\n",
              "  <div id=\"df-98e30509-36c8-4697-879b-884848ef5369\">\n",
              "    <div class=\"colab-df-container\">\n",
              "      <div>\n",
              "<style scoped>\n",
              "    .dataframe tbody tr th:only-of-type {\n",
              "        vertical-align: middle;\n",
              "    }\n",
              "\n",
              "    .dataframe tbody tr th {\n",
              "        vertical-align: top;\n",
              "    }\n",
              "\n",
              "    .dataframe thead th {\n",
              "        text-align: right;\n",
              "    }\n",
              "</style>\n",
              "<table border=\"1\" class=\"dataframe\">\n",
              "  <thead>\n",
              "    <tr style=\"text-align: right;\">\n",
              "      <th></th>\n",
              "      <th>id</th>\n",
              "      <th>start_date</th>\n",
              "      <th>end_date</th>\n",
              "      <th>created_on</th>\n",
              "      <th>latitude</th>\n",
              "      <th>longitude</th>\n",
              "      <th>departments</th>\n",
              "      <th>city</th>\n",
              "      <th>bedrooms</th>\n",
              "      <th>bathrooms</th>\n",
              "      <th>price</th>\n",
              "      <th>property_type</th>\n",
              "      <th>operation_type</th>\n",
              "    </tr>\n",
              "  </thead>\n",
              "  <tbody>\n",
              "    <tr>\n",
              "      <th>0</th>\n",
              "      <td>KsjahK62rxcYKXXQjOdkqw==</td>\n",
              "      <td>2020-10-07</td>\n",
              "      <td>2021-10-09</td>\n",
              "      <td>2020-10-07</td>\n",
              "      <td>3.9210</td>\n",
              "      <td>-76.506000</td>\n",
              "      <td>Valle del Cauca</td>\n",
              "      <td>NaN</td>\n",
              "      <td>6.0</td>\n",
              "      <td>7.0</td>\n",
              "      <td>1.300000e+09</td>\n",
              "      <td>Casa</td>\n",
              "      <td>Venta</td>\n",
              "    </tr>\n",
              "    <tr>\n",
              "      <th>1</th>\n",
              "      <td>Y+gsBZYq1zu5NoR3V5oUGA==</td>\n",
              "      <td>2020-10-07</td>\n",
              "      <td>2021-01-06</td>\n",
              "      <td>2020-10-07</td>\n",
              "      <td>3.3577</td>\n",
              "      <td>-76.541811</td>\n",
              "      <td>Valle del Cauca</td>\n",
              "      <td>Cali</td>\n",
              "      <td>NaN</td>\n",
              "      <td>7.0</td>\n",
              "      <td>2.800000e+09</td>\n",
              "      <td>Casa</td>\n",
              "      <td>Venta</td>\n",
              "    </tr>\n",
              "    <tr>\n",
              "      <th>2</th>\n",
              "      <td>Jpzqxj8/Vgf3Aa5ASxUBNg==</td>\n",
              "      <td>2020-10-07</td>\n",
              "      <td>2020-10-07</td>\n",
              "      <td>2020-10-07</td>\n",
              "      <td>3.3577</td>\n",
              "      <td>-76.541811</td>\n",
              "      <td>Valle del Cauca</td>\n",
              "      <td>Cali</td>\n",
              "      <td>NaN</td>\n",
              "      <td>7.0</td>\n",
              "      <td>2.800000e+09</td>\n",
              "      <td>Casa</td>\n",
              "      <td>Venta</td>\n",
              "    </tr>\n",
              "    <tr>\n",
              "      <th>3</th>\n",
              "      <td>ieuFnkFx/yHDD66iMV14Gw==</td>\n",
              "      <td>2020-10-07</td>\n",
              "      <td>2021-04-12</td>\n",
              "      <td>2020-10-07</td>\n",
              "      <td>3.3640</td>\n",
              "      <td>-76.538000</td>\n",
              "      <td>Valle del Cauca</td>\n",
              "      <td>Cali</td>\n",
              "      <td>5.0</td>\n",
              "      <td>8.0</td>\n",
              "      <td>3.500000e+09</td>\n",
              "      <td>Casa</td>\n",
              "      <td>Venta</td>\n",
              "    </tr>\n",
              "    <tr>\n",
              "      <th>4</th>\n",
              "      <td>g4u5JM+hAHEk8SukRSjMzg==</td>\n",
              "      <td>2020-10-07</td>\n",
              "      <td>9999-12-31</td>\n",
              "      <td>2020-10-07</td>\n",
              "      <td>3.3910</td>\n",
              "      <td>-76.517000</td>\n",
              "      <td>Valle del Cauca</td>\n",
              "      <td>Cali</td>\n",
              "      <td>8.0</td>\n",
              "      <td>9.0</td>\n",
              "      <td>4.800000e+08</td>\n",
              "      <td>Casa</td>\n",
              "      <td>Venta</td>\n",
              "    </tr>\n",
              "  </tbody>\n",
              "</table>\n",
              "</div>\n",
              "      <button class=\"colab-df-convert\" onclick=\"convertToInteractive('df-98e30509-36c8-4697-879b-884848ef5369')\"\n",
              "              title=\"Convert this dataframe to an interactive table.\"\n",
              "              style=\"display:none;\">\n",
              "        \n",
              "  <svg xmlns=\"http://www.w3.org/2000/svg\" height=\"24px\"viewBox=\"0 0 24 24\"\n",
              "       width=\"24px\">\n",
              "    <path d=\"M0 0h24v24H0V0z\" fill=\"none\"/>\n",
              "    <path d=\"M18.56 5.44l.94 2.06.94-2.06 2.06-.94-2.06-.94-.94-2.06-.94 2.06-2.06.94zm-11 1L8.5 8.5l.94-2.06 2.06-.94-2.06-.94L8.5 2.5l-.94 2.06-2.06.94zm10 10l.94 2.06.94-2.06 2.06-.94-2.06-.94-.94-2.06-.94 2.06-2.06.94z\"/><path d=\"M17.41 7.96l-1.37-1.37c-.4-.4-.92-.59-1.43-.59-.52 0-1.04.2-1.43.59L10.3 9.45l-7.72 7.72c-.78.78-.78 2.05 0 2.83L4 21.41c.39.39.9.59 1.41.59.51 0 1.02-.2 1.41-.59l7.78-7.78 2.81-2.81c.8-.78.8-2.07 0-2.86zM5.41 20L4 18.59l7.72-7.72 1.47 1.35L5.41 20z\"/>\n",
              "  </svg>\n",
              "      </button>\n",
              "      \n",
              "  <style>\n",
              "    .colab-df-container {\n",
              "      display:flex;\n",
              "      flex-wrap:wrap;\n",
              "      gap: 12px;\n",
              "    }\n",
              "\n",
              "    .colab-df-convert {\n",
              "      background-color: #E8F0FE;\n",
              "      border: none;\n",
              "      border-radius: 50%;\n",
              "      cursor: pointer;\n",
              "      display: none;\n",
              "      fill: #1967D2;\n",
              "      height: 32px;\n",
              "      padding: 0 0 0 0;\n",
              "      width: 32px;\n",
              "    }\n",
              "\n",
              "    .colab-df-convert:hover {\n",
              "      background-color: #E2EBFA;\n",
              "      box-shadow: 0px 1px 2px rgba(60, 64, 67, 0.3), 0px 1px 3px 1px rgba(60, 64, 67, 0.15);\n",
              "      fill: #174EA6;\n",
              "    }\n",
              "\n",
              "    [theme=dark] .colab-df-convert {\n",
              "      background-color: #3B4455;\n",
              "      fill: #D2E3FC;\n",
              "    }\n",
              "\n",
              "    [theme=dark] .colab-df-convert:hover {\n",
              "      background-color: #434B5C;\n",
              "      box-shadow: 0px 1px 3px 1px rgba(0, 0, 0, 0.15);\n",
              "      filter: drop-shadow(0px 1px 2px rgba(0, 0, 0, 0.3));\n",
              "      fill: #FFFFFF;\n",
              "    }\n",
              "  </style>\n",
              "\n",
              "      <script>\n",
              "        const buttonEl =\n",
              "          document.querySelector('#df-98e30509-36c8-4697-879b-884848ef5369 button.colab-df-convert');\n",
              "        buttonEl.style.display =\n",
              "          google.colab.kernel.accessAllowed ? 'block' : 'none';\n",
              "\n",
              "        async function convertToInteractive(key) {\n",
              "          const element = document.querySelector('#df-98e30509-36c8-4697-879b-884848ef5369');\n",
              "          const dataTable =\n",
              "            await google.colab.kernel.invokeFunction('convertToInteractive',\n",
              "                                                     [key], {});\n",
              "          if (!dataTable) return;\n",
              "\n",
              "          const docLinkHtml = 'Like what you see? Visit the ' +\n",
              "            '<a target=\"_blank\" href=https://colab.research.google.com/notebooks/data_table.ipynb>data table notebook</a>'\n",
              "            + ' to learn more about interactive tables.';\n",
              "          element.innerHTML = '';\n",
              "          dataTable['output_type'] = 'display_data';\n",
              "          await google.colab.output.renderOutput(dataTable, element);\n",
              "          const docLink = document.createElement('div');\n",
              "          docLink.innerHTML = docLinkHtml;\n",
              "          element.appendChild(docLink);\n",
              "        }\n",
              "      </script>\n",
              "    </div>\n",
              "  </div>\n",
              "  "
            ]
          },
          "metadata": {},
          "execution_count": 178
        }
      ],
      "source": [
        "df_clean.head()"
      ],
      "id": "LqDd4KGZhAcF"
    },
    {
      "cell_type": "code",
      "execution_count": null,
      "metadata": {
        "id": "Rp84wWvcnhP6"
      },
      "outputs": [],
      "source": [
        "## Reemplazar por la frecuencia los nulos en 'bedrooms'\n",
        "df_clean[\"bedrooms\"].value_counts().idxmax()\n",
        "df_clean[\"bedrooms\"].replace(np.nan, 3.0, inplace=True)"
      ],
      "id": "Rp84wWvcnhP6"
    },
    {
      "cell_type": "code",
      "execution_count": null,
      "metadata": {
        "id": "9bo0owbFrmmb"
      },
      "outputs": [],
      "source": [
        "## Reemplazar por la frecuencia los nulos en 'bathrooms'\n",
        "df_clean[\"bathrooms\"].value_counts().idxmax()\n",
        "df_clean[\"bathrooms\"].replace(np.nan, 2.0, inplace=True)"
      ],
      "id": "9bo0owbFrmmb"
    },
    {
      "cell_type": "code",
      "execution_count": null,
      "metadata": {
        "id": "PGc6iqEbsdot"
      },
      "outputs": [],
      "source": [
        "## Reemplazar los nulos en 'description'\n",
        "#df_clean[\"description\"].replace(np.nan, \"Sin descripción\", inplace=True)"
      ],
      "id": "PGc6iqEbsdot"
    },
    {
      "cell_type": "code",
      "execution_count": null,
      "metadata": {
        "id": "ezDsOiDSsfGo"
      },
      "outputs": [],
      "source": [
        "## Reemplazar los nulos en 'title'\n",
        "#df_clean[\"title\"].replace(np.nan, \"Sin título\", inplace=True)"
      ],
      "id": "ezDsOiDSsfGo"
    },
    {
      "cell_type": "code",
      "execution_count": null,
      "metadata": {
        "colab": {
          "base_uri": "https://localhost:8080/"
        },
        "id": "eygymXeRzbyN",
        "outputId": "1b192c8a-ec22-4092-9d9c-26c34904447b"
      },
      "outputs": [
        {
          "output_type": "execute_result",
          "data": {
            "text/plain": [
              "id                    0\n",
              "start_date            0\n",
              "end_date              0\n",
              "created_on            0\n",
              "latitude              0\n",
              "longitude             0\n",
              "departments           0\n",
              "city              61118\n",
              "bedrooms              0\n",
              "bathrooms             0\n",
              "price                 0\n",
              "property_type         0\n",
              "operation_type        0\n",
              "dtype: int64"
            ]
          },
          "metadata": {},
          "execution_count": 181
        }
      ],
      "source": [
        "df_clean.isna().sum()"
      ],
      "id": "eygymXeRzbyN"
    },
    {
      "cell_type": "code",
      "execution_count": null,
      "metadata": {
        "colab": {
          "base_uri": "https://localhost:8080/"
        },
        "id": "puEi9FbHnb3x",
        "outputId": "74fe993a-a861-4f0b-ca39-8533d799cc1e"
      },
      "outputs": [
        {
          "output_type": "execute_result",
          "data": {
            "text/plain": [
              "(739932, 13)"
            ]
          },
          "metadata": {},
          "execution_count": 182
        }
      ],
      "source": [
        "df_clean.shape"
      ],
      "id": "puEi9FbHnb3x"
    },
    {
      "cell_type": "markdown",
      "source": [
        "## **Obtener los valores faltantes de la columna \"city\"**"
      ],
      "metadata": {
        "id": "yrtNSdaWxIlL"
      },
      "id": "yrtNSdaWxIlL"
    },
    {
      "cell_type": "code",
      "execution_count": null,
      "metadata": {
        "id": "iIMiurlEByqO"
      },
      "outputs": [],
      "source": [
        "## Dataset conformado por los valores nulos de las columnas \"city\"\n",
        "df_null_city = df_clean[(df_clean['city'].isnull())]"
      ],
      "id": "iIMiurlEByqO"
    },
    {
      "cell_type": "code",
      "execution_count": null,
      "metadata": {
        "id": "D7-c75pTs2On"
      },
      "outputs": [],
      "source": [
        "# Nuevos Datasets solo con las columnas necesarias\n",
        "city_df = df_null_city.loc[:, ['id','latitude', 'longitude', 'city']]"
      ],
      "id": "D7-c75pTs2On"
    },
    {
      "cell_type": "code",
      "execution_count": null,
      "metadata": {
        "colab": {
          "base_uri": "https://localhost:8080/",
          "height": 363
        },
        "id": "xtjZKuHGbjnc",
        "outputId": "5b9b80c7-bb17-4606-f656-3884d3445509"
      },
      "outputs": [
        {
          "output_type": "execute_result",
          "data": {
            "text/plain": [
              "                          id   latitude  longitude city\n",
              "0   KsjahK62rxcYKXXQjOdkqw==   3.921000 -76.506000  NaN\n",
              "49  A81k1zqLO6L9zK0TJVPv4A==   4.826252 -75.683261  NaN\n",
              "50  oRg1SoEKuBCvSJMuMTh7hw==   4.816264 -75.696573  NaN\n",
              "51  tRB8NykyByZUlVGu5XL7kg==   4.541471 -75.664193  NaN\n",
              "52  rXUp+K0FE1sbiX0cD+tHLg==   4.826252 -75.683261  NaN\n",
              "53  3gO2qE/6yotv2fW8znDxcg==   4.816751 -75.711253  NaN\n",
              "54  4YZx9ZAYMSkNg1b+Bo3ETw==  11.144643 -74.225311  NaN\n",
              "55  cBWJYeAQegOVH4V22ebKoA==  11.208999 -74.222279  NaN\n",
              "56  OOBu1qxg+Wn7fTr/Nb5FEw==   4.797641 -75.753500  NaN\n",
              "57  r4nfFDFrBJfe8exucVp+PA==   4.804462 -75.690258  NaN"
            ],
            "text/html": [
              "\n",
              "  <div id=\"df-e8d5a348-a0fe-4f36-bb27-3c00e19bd438\">\n",
              "    <div class=\"colab-df-container\">\n",
              "      <div>\n",
              "<style scoped>\n",
              "    .dataframe tbody tr th:only-of-type {\n",
              "        vertical-align: middle;\n",
              "    }\n",
              "\n",
              "    .dataframe tbody tr th {\n",
              "        vertical-align: top;\n",
              "    }\n",
              "\n",
              "    .dataframe thead th {\n",
              "        text-align: right;\n",
              "    }\n",
              "</style>\n",
              "<table border=\"1\" class=\"dataframe\">\n",
              "  <thead>\n",
              "    <tr style=\"text-align: right;\">\n",
              "      <th></th>\n",
              "      <th>id</th>\n",
              "      <th>latitude</th>\n",
              "      <th>longitude</th>\n",
              "      <th>city</th>\n",
              "    </tr>\n",
              "  </thead>\n",
              "  <tbody>\n",
              "    <tr>\n",
              "      <th>0</th>\n",
              "      <td>KsjahK62rxcYKXXQjOdkqw==</td>\n",
              "      <td>3.921000</td>\n",
              "      <td>-76.506000</td>\n",
              "      <td>NaN</td>\n",
              "    </tr>\n",
              "    <tr>\n",
              "      <th>49</th>\n",
              "      <td>A81k1zqLO6L9zK0TJVPv4A==</td>\n",
              "      <td>4.826252</td>\n",
              "      <td>-75.683261</td>\n",
              "      <td>NaN</td>\n",
              "    </tr>\n",
              "    <tr>\n",
              "      <th>50</th>\n",
              "      <td>oRg1SoEKuBCvSJMuMTh7hw==</td>\n",
              "      <td>4.816264</td>\n",
              "      <td>-75.696573</td>\n",
              "      <td>NaN</td>\n",
              "    </tr>\n",
              "    <tr>\n",
              "      <th>51</th>\n",
              "      <td>tRB8NykyByZUlVGu5XL7kg==</td>\n",
              "      <td>4.541471</td>\n",
              "      <td>-75.664193</td>\n",
              "      <td>NaN</td>\n",
              "    </tr>\n",
              "    <tr>\n",
              "      <th>52</th>\n",
              "      <td>rXUp+K0FE1sbiX0cD+tHLg==</td>\n",
              "      <td>4.826252</td>\n",
              "      <td>-75.683261</td>\n",
              "      <td>NaN</td>\n",
              "    </tr>\n",
              "    <tr>\n",
              "      <th>53</th>\n",
              "      <td>3gO2qE/6yotv2fW8znDxcg==</td>\n",
              "      <td>4.816751</td>\n",
              "      <td>-75.711253</td>\n",
              "      <td>NaN</td>\n",
              "    </tr>\n",
              "    <tr>\n",
              "      <th>54</th>\n",
              "      <td>4YZx9ZAYMSkNg1b+Bo3ETw==</td>\n",
              "      <td>11.144643</td>\n",
              "      <td>-74.225311</td>\n",
              "      <td>NaN</td>\n",
              "    </tr>\n",
              "    <tr>\n",
              "      <th>55</th>\n",
              "      <td>cBWJYeAQegOVH4V22ebKoA==</td>\n",
              "      <td>11.208999</td>\n",
              "      <td>-74.222279</td>\n",
              "      <td>NaN</td>\n",
              "    </tr>\n",
              "    <tr>\n",
              "      <th>56</th>\n",
              "      <td>OOBu1qxg+Wn7fTr/Nb5FEw==</td>\n",
              "      <td>4.797641</td>\n",
              "      <td>-75.753500</td>\n",
              "      <td>NaN</td>\n",
              "    </tr>\n",
              "    <tr>\n",
              "      <th>57</th>\n",
              "      <td>r4nfFDFrBJfe8exucVp+PA==</td>\n",
              "      <td>4.804462</td>\n",
              "      <td>-75.690258</td>\n",
              "      <td>NaN</td>\n",
              "    </tr>\n",
              "  </tbody>\n",
              "</table>\n",
              "</div>\n",
              "      <button class=\"colab-df-convert\" onclick=\"convertToInteractive('df-e8d5a348-a0fe-4f36-bb27-3c00e19bd438')\"\n",
              "              title=\"Convert this dataframe to an interactive table.\"\n",
              "              style=\"display:none;\">\n",
              "        \n",
              "  <svg xmlns=\"http://www.w3.org/2000/svg\" height=\"24px\"viewBox=\"0 0 24 24\"\n",
              "       width=\"24px\">\n",
              "    <path d=\"M0 0h24v24H0V0z\" fill=\"none\"/>\n",
              "    <path d=\"M18.56 5.44l.94 2.06.94-2.06 2.06-.94-2.06-.94-.94-2.06-.94 2.06-2.06.94zm-11 1L8.5 8.5l.94-2.06 2.06-.94-2.06-.94L8.5 2.5l-.94 2.06-2.06.94zm10 10l.94 2.06.94-2.06 2.06-.94-2.06-.94-.94-2.06-.94 2.06-2.06.94z\"/><path d=\"M17.41 7.96l-1.37-1.37c-.4-.4-.92-.59-1.43-.59-.52 0-1.04.2-1.43.59L10.3 9.45l-7.72 7.72c-.78.78-.78 2.05 0 2.83L4 21.41c.39.39.9.59 1.41.59.51 0 1.02-.2 1.41-.59l7.78-7.78 2.81-2.81c.8-.78.8-2.07 0-2.86zM5.41 20L4 18.59l7.72-7.72 1.47 1.35L5.41 20z\"/>\n",
              "  </svg>\n",
              "      </button>\n",
              "      \n",
              "  <style>\n",
              "    .colab-df-container {\n",
              "      display:flex;\n",
              "      flex-wrap:wrap;\n",
              "      gap: 12px;\n",
              "    }\n",
              "\n",
              "    .colab-df-convert {\n",
              "      background-color: #E8F0FE;\n",
              "      border: none;\n",
              "      border-radius: 50%;\n",
              "      cursor: pointer;\n",
              "      display: none;\n",
              "      fill: #1967D2;\n",
              "      height: 32px;\n",
              "      padding: 0 0 0 0;\n",
              "      width: 32px;\n",
              "    }\n",
              "\n",
              "    .colab-df-convert:hover {\n",
              "      background-color: #E2EBFA;\n",
              "      box-shadow: 0px 1px 2px rgba(60, 64, 67, 0.3), 0px 1px 3px 1px rgba(60, 64, 67, 0.15);\n",
              "      fill: #174EA6;\n",
              "    }\n",
              "\n",
              "    [theme=dark] .colab-df-convert {\n",
              "      background-color: #3B4455;\n",
              "      fill: #D2E3FC;\n",
              "    }\n",
              "\n",
              "    [theme=dark] .colab-df-convert:hover {\n",
              "      background-color: #434B5C;\n",
              "      box-shadow: 0px 1px 3px 1px rgba(0, 0, 0, 0.15);\n",
              "      filter: drop-shadow(0px 1px 2px rgba(0, 0, 0, 0.3));\n",
              "      fill: #FFFFFF;\n",
              "    }\n",
              "  </style>\n",
              "\n",
              "      <script>\n",
              "        const buttonEl =\n",
              "          document.querySelector('#df-e8d5a348-a0fe-4f36-bb27-3c00e19bd438 button.colab-df-convert');\n",
              "        buttonEl.style.display =\n",
              "          google.colab.kernel.accessAllowed ? 'block' : 'none';\n",
              "\n",
              "        async function convertToInteractive(key) {\n",
              "          const element = document.querySelector('#df-e8d5a348-a0fe-4f36-bb27-3c00e19bd438');\n",
              "          const dataTable =\n",
              "            await google.colab.kernel.invokeFunction('convertToInteractive',\n",
              "                                                     [key], {});\n",
              "          if (!dataTable) return;\n",
              "\n",
              "          const docLinkHtml = 'Like what you see? Visit the ' +\n",
              "            '<a target=\"_blank\" href=https://colab.research.google.com/notebooks/data_table.ipynb>data table notebook</a>'\n",
              "            + ' to learn more about interactive tables.';\n",
              "          element.innerHTML = '';\n",
              "          dataTable['output_type'] = 'display_data';\n",
              "          await google.colab.output.renderOutput(dataTable, element);\n",
              "          const docLink = document.createElement('div');\n",
              "          docLink.innerHTML = docLinkHtml;\n",
              "          element.appendChild(docLink);\n",
              "        }\n",
              "      </script>\n",
              "    </div>\n",
              "  </div>\n",
              "  "
            ]
          },
          "metadata": {},
          "execution_count": 50
        }
      ],
      "source": [
        "city_df.head(10)"
      ],
      "id": "xtjZKuHGbjnc"
    },
    {
      "cell_type": "code",
      "execution_count": null,
      "metadata": {
        "colab": {
          "base_uri": "https://localhost:8080/"
        },
        "id": "gUJOLLUhL5BU",
        "outputId": "0db969fe-4bfd-4da1-cba2-36739b977038"
      },
      "outputs": [
        {
          "output_type": "stream",
          "name": "stdout",
          "text": [
            "Number of files:  0\n"
          ]
        }
      ],
      "source": [
        "# Usado para borrar\n",
        "import os\n",
        "import glob\n",
        "# my all files starts with \"frame\" and ends with \".jpg\"\n",
        "fileList = glob.glob('/content/df_new_city*.csv')\n",
        "print(\"Number of files: \",len(fileList))\n",
        "    \n",
        "for filePath in fileList:\n",
        "      try:\n",
        "        os.remove(filePath)\n",
        "      except:\n",
        "        print(\"Error while deleting file : \", filePath)"
      ],
      "id": "gUJOLLUhL5BU"
    },
    {
      "cell_type": "code",
      "execution_count": null,
      "metadata": {
        "id": "V7ZlqqZ2AVHi"
      },
      "outputs": [],
      "source": [
        "## Importar Nominatim \n",
        "from geopy.geocoders import Nominatim\n",
        "from urllib3.exceptions import ConnectTimeoutError\n",
        "from geopy.exc import GeocoderTimedOut, GeocoderServiceError\n",
        "from geopy.extra.rate_limiter import RateLimiter\n",
        "\n",
        "geolocator = Nominatim(user_agent='lauratest1569', timeout=10)"
      ],
      "id": "V7ZlqqZ2AVHi"
    },
    {
      "cell_type": "code",
      "execution_count": null,
      "metadata": {
        "id": "wL6ibwWaSPW3"
      },
      "outputs": [],
      "source": [
        "## Encontrar la ciudad\n",
        "def update_city(row):\n",
        "    lat = row['latitude']\n",
        "    lon = row['longitude']\n",
        "    coord = (f\"{lat}, {lon}\")\n",
        "    try:\n",
        "      location = geolocator.reverse(coord)\n",
        "      city = location.raw['address'].get('city', None) or location.raw['address'].get('county', None) or location.raw['address'].get('town', None)\n",
        "      return city\n",
        "    except (GeocoderTimedOut, GeocoderServiceError, ConnectTimeoutError):\n",
        "        return None"
      ],
      "id": "wL6ibwWaSPW3"
    },
    {
      "cell_type": "code",
      "execution_count": null,
      "metadata": {
        "id": "ilsDsaLJDVwI"
      },
      "outputs": [],
      "source": [
        "def new_dataset_city(city_df):\n",
        "  i = 1\n",
        "  while not city_df.empty:\n",
        "      df_new_city = city_df.head(2000)\n",
        "      df_new_city['city'] = df_new_city.apply(update_city, axis=1)\n",
        "\n",
        "      city_df = city_df.iloc[2000:]\n",
        "      city_df = city_df.reset_index(drop=True)\n",
        "      \n",
        "      df_new_city.to_csv('df_new_city_{}.csv'.format(i))\n",
        "      #print('Archivo df_new_city_{}.csv creado.'.format(i))\n",
        "      i += 1"
      ],
      "id": "ilsDsaLJDVwI"
    },
    {
      "cell_type": "code",
      "execution_count": null,
      "metadata": {
        "id": "CYyvxlsAFmfm"
      },
      "outputs": [],
      "source": [
        "new_dataset_city(city_df)"
      ],
      "id": "CYyvxlsAFmfm"
    },
    {
      "cell_type": "code",
      "source": [
        "df_new_city_1 = pd.read_csv('df_new_city_1.csv')\n",
        "df_new_city_2 = pd.read_csv('df_new_city_2.csv')\n",
        "df_new_city_3 = pd.read_csv('df_new_city_3.csv')\n",
        "df_new_city_4 = pd.read_csv('df_new_city_4.csv')\n",
        "df_new_city_5 = pd.read_csv('df_new_city_5.csv')\n",
        "df_new_city_6 = pd.read_csv('df_new_city_6.csv')\n",
        "df_new_city_7 = pd.read_csv('df_new_city_7.csv')\n",
        "df_new_city_8 = pd.read_csv('df_new_city_8.csv')\n",
        "df_new_city_9 = pd.read_csv('df_new_city_9.csv')\n",
        "df_new_city_10 = pd.read_csv('df_new_city_10.csv')\n",
        "df_new_city_11 = pd.read_csv('df_new_city_11.csv')\n",
        "df_new_city_12 = pd.read_csv('df_new_city_12.csv')\n",
        "df_new_city_13 = pd.read_csv('df_new_city_13.csv')\n",
        "df_new_city_14 = pd.read_csv('df_new_city_14.csv')\n",
        "df_new_city_15 = pd.read_csv('df_new_city_15.csv')\n",
        "df_new_city_16 = pd.read_csv('df_new_city_16.csv')\n",
        "df_new_city_17 = pd.read_csv('df_new_city_17.csv')\n",
        "df_new_city_18= pd.read_csv('df_new_city_18.csv')\n",
        "df_new_city_19 = pd.read_csv('df_new_city_19.csv')\n",
        "df_new_city_20 = pd.read_csv('df_new_city_20.csv')\n",
        "df_new_city_21 = pd.read_csv('df_new_city_21.csv')\n",
        "df_new_city_22 = pd.read_csv('df_new_city_22.csv')\n",
        "df_new_city_23 = pd.read_csv('df_new_city_23.csv')\n",
        "df_new_city_24 = pd.read_csv('df_new_city_24.csv')\n",
        "df_new_city_25 = pd.read_csv('df_new_city_25.csv')\n",
        "df_new_city_26 = pd.read_csv('df_new_city_26.csv')\n",
        "df_new_city_27 = pd.read_csv('df_new_city_27.csv')\n",
        "df_new_city_28 = pd.read_csv('df_new_city_28.csv')\n",
        "df_new_city_29 = pd.read_csv('df_new_city_29.csv')\n",
        "df_new_city_30 = pd.read_csv('df_new_city_30.csv')\n",
        "df_new_city_31 = pd.read_csv('df_new_city_31.csv')"
      ],
      "metadata": {
        "id": "x7puxxGdsgl8"
      },
      "id": "x7puxxGdsgl8",
      "execution_count": null,
      "outputs": []
    },
    {
      "cell_type": "code",
      "source": [
        "total_city = pd.concat([df_new_city_1, df_new_city_2, df_new_city_3, df_new_city_4, df_new_city_5,\n",
        "                        df_new_city_6, df_new_city_7, df_new_city_8, df_new_city_9, df_new_city_10,\n",
        "                        df_new_city_11, df_new_city_12, df_new_city_13, df_new_city_14, df_new_city_15,\n",
        "                        df_new_city_16, df_new_city_17, df_new_city_18, df_new_city_19, df_new_city_20, df_new_city_21,\n",
        "                        df_new_city_22, df_new_city_23, df_new_city_24, df_new_city_25, df_new_city_26, df_new_city_27,\n",
        "                        df_new_city_28, df_new_city_29, df_new_city_30, df_new_city_31])"
      ],
      "metadata": {
        "id": "ArU1x2p0sioG"
      },
      "id": "ArU1x2p0sioG",
      "execution_count": null,
      "outputs": []
    },
    {
      "cell_type": "code",
      "source": [
        "total_city = total_city.drop(columns=['Unnamed: 0'])"
      ],
      "metadata": {
        "id": "aO6QzjIlslv0"
      },
      "id": "aO6QzjIlslv0",
      "execution_count": null,
      "outputs": []
    },
    {
      "cell_type": "code",
      "source": [
        "total_city.shape"
      ],
      "metadata": {
        "colab": {
          "base_uri": "https://localhost:8080/"
        },
        "id": "KEehd2Mcsnbc",
        "outputId": "6cc0166e-d154-431c-8e1f-2f3e40d51351"
      },
      "id": "KEehd2Mcsnbc",
      "execution_count": null,
      "outputs": [
        {
          "output_type": "execute_result",
          "data": {
            "text/plain": [
              "(61118, 4)"
            ]
          },
          "metadata": {},
          "execution_count": 186
        }
      ]
    },
    {
      "cell_type": "code",
      "source": [
        "from google.colab import files\n",
        "import pandas as pd\n",
        "df_clean.to_csv('df_clean.csv')\n",
        "files.download('df_clean.csv') "
      ],
      "metadata": {
        "colab": {
          "base_uri": "https://localhost:8080/",
          "height": 17
        },
        "id": "jxvtwB9bsvlk",
        "outputId": "03560da5-1548-4bb8-a688-92f2d5f61557"
      },
      "id": "jxvtwB9bsvlk",
      "execution_count": null,
      "outputs": [
        {
          "output_type": "display_data",
          "data": {
            "text/plain": [
              "<IPython.core.display.Javascript object>"
            ],
            "application/javascript": [
              "\n",
              "    async function download(id, filename, size) {\n",
              "      if (!google.colab.kernel.accessAllowed) {\n",
              "        return;\n",
              "      }\n",
              "      const div = document.createElement('div');\n",
              "      const label = document.createElement('label');\n",
              "      label.textContent = `Downloading \"${filename}\": `;\n",
              "      div.appendChild(label);\n",
              "      const progress = document.createElement('progress');\n",
              "      progress.max = size;\n",
              "      div.appendChild(progress);\n",
              "      document.body.appendChild(div);\n",
              "\n",
              "      const buffers = [];\n",
              "      let downloaded = 0;\n",
              "\n",
              "      const channel = await google.colab.kernel.comms.open(id);\n",
              "      // Send a message to notify the kernel that we're ready.\n",
              "      channel.send({})\n",
              "\n",
              "      for await (const message of channel.messages) {\n",
              "        // Send a message to notify the kernel that we're ready.\n",
              "        channel.send({})\n",
              "        if (message.buffers) {\n",
              "          for (const buffer of message.buffers) {\n",
              "            buffers.push(buffer);\n",
              "            downloaded += buffer.byteLength;\n",
              "            progress.value = downloaded;\n",
              "          }\n",
              "        }\n",
              "      }\n",
              "      const blob = new Blob(buffers, {type: 'application/binary'});\n",
              "      const a = document.createElement('a');\n",
              "      a.href = window.URL.createObjectURL(blob);\n",
              "      a.download = filename;\n",
              "      div.appendChild(a);\n",
              "      a.click();\n",
              "      div.remove();\n",
              "    }\n",
              "  "
            ]
          },
          "metadata": {}
        },
        {
          "output_type": "display_data",
          "data": {
            "text/plain": [
              "<IPython.core.display.Javascript object>"
            ],
            "application/javascript": [
              "download(\"download_c7280341-c03a-47a4-82e2-1e8c7fe3377f\", \"df_clean.csv\", 67747549)"
            ]
          },
          "metadata": {}
        }
      ]
    },
    {
      "cell_type": "code",
      "execution_count": null,
      "metadata": {
        "colab": {
          "base_uri": "https://localhost:8080/"
        },
        "id": "B1jxrKtOFWI-",
        "outputId": "4d56517a-b5b0-4adb-ec1c-6a73327d8b0c"
      },
      "outputs": [
        {
          "name": "stdout",
          "output_type": "stream",
          "text": [
            "{'road': 'Carrera 71', 'neighbourhood': 'Ciudad 2000', 'city_district': 'Comuna 16', 'city': 'Perímetro Urbano Santiago de Cali', 'county': 'Cali', 'state_district': 'Sur', 'state': 'Valle del Cauca', 'ISO3166-2-lvl4': 'CO-VAC', 'postcode': '760025', 'country': 'Colombia', 'country_code': 'co'}\n"
          ]
        }
      ],
      "source": [
        "# Usado para entender qué retorna el geolocator\n",
        "lald = \"3.3910\t-76.517000\" \n",
        "localizations = geolocator.reverse(lald)\n",
        "print(localizations.raw['address'])"
      ],
      "id": "B1jxrKtOFWI-"
    },
    {
      "cell_type": "code",
      "execution_count": null,
      "metadata": {
        "id": "TT8CxcYse4jc"
      },
      "outputs": [],
      "source": [
        "# Join los dataframes con respecto a la columna id para agregar los valores de la columna city\n",
        "df_clean = df_clean.set_index('id')\n",
        "total_city = total_city.set_index('id')\n",
        "df_clean = df_clean.join(total_city, lsuffix='_left', rsuffix='_right')\n",
        "\n",
        "# Reemplazar valores de la columna city\n",
        "df_clean['city'] = df_clean['city_right'].fillna(df_clean['city_left'])\n",
        "\n",
        "# Drop las columnas innecesarias\n",
        "df_clean = df_clean.drop(columns=['latitude_left', 'longitude_left', 'city_left', 'latitude_right', 'longitude_right', 'city_right'])\n",
        "df_clean.dropna(subset=['city'], inplace=True)\n",
        "df_clean.reset_index(drop=True, inplace=True)\n"
      ],
      "id": "TT8CxcYse4jc"
    },
    {
      "cell_type": "code",
      "execution_count": null,
      "metadata": {
        "colab": {
          "base_uri": "https://localhost:8080/"
        },
        "id": "ik8PFyvMQgXD",
        "outputId": "74046c97-a11d-407c-bd2c-0de3f73ff965"
      },
      "outputs": [
        {
          "output_type": "execute_result",
          "data": {
            "text/plain": [
              "start_date        object\n",
              "end_date          object\n",
              "created_on        object\n",
              "departments       object\n",
              "bedrooms           int64\n",
              "bathrooms          int64\n",
              "price              int64\n",
              "property_type     object\n",
              "operation_type    object\n",
              "city              object\n",
              "dtype: object"
            ]
          },
          "metadata": {},
          "execution_count": 159
        }
      ],
      "source": [
        "df_clean.dtypes"
      ],
      "id": "ik8PFyvMQgXD"
    },
    {
      "cell_type": "code",
      "source": [
        "df_clean.shape"
      ],
      "metadata": {
        "colab": {
          "base_uri": "https://localhost:8080/"
        },
        "id": "rZJQ-xDO7yfe",
        "outputId": "71cd2427-337a-4cb4-84d0-3bef490781e3"
      },
      "id": "rZJQ-xDO7yfe",
      "execution_count": null,
      "outputs": [
        {
          "output_type": "execute_result",
          "data": {
            "text/plain": [
              "(737345, 10)"
            ]
          },
          "metadata": {},
          "execution_count": 188
        }
      ]
    },
    {
      "cell_type": "code",
      "source": [
        "# Después de lidiar con los nulos se corrigen los tipos de dato\n",
        "df_clean['bedrooms'] = df_clean['bedrooms'].astype(int)\n",
        "df_clean['bathrooms'] = df_clean['bathrooms'].astype(int)\n",
        "df_clean['price'] = df_clean['price'].astype(int)"
      ],
      "metadata": {
        "id": "lqRB95rpuHb6"
      },
      "id": "lqRB95rpuHb6",
      "execution_count": null,
      "outputs": []
    },
    {
      "cell_type": "markdown",
      "source": [
        "## **Se importa el dataset modificado y sin nulos**"
      ],
      "metadata": {
        "id": "zroXW1Pexc52"
      },
      "id": "zroXW1Pexc52"
    },
    {
      "cell_type": "code",
      "source": [
        "from google.colab import drive\n",
        "drive.mount('/content/gdrive')"
      ],
      "metadata": {
        "colab": {
          "base_uri": "https://localhost:8080/"
        },
        "id": "edd3eum111EK",
        "outputId": "dca3b969-cd5c-435f-bb8c-269299b99e65"
      },
      "id": "edd3eum111EK",
      "execution_count": null,
      "outputs": [
        {
          "output_type": "stream",
          "name": "stdout",
          "text": [
            "Mounted at /content/gdrive\n"
          ]
        }
      ]
    },
    {
      "cell_type": "code",
      "source": [
        "# Descarga el dataset específico \n",
        "!kaggle datasets download -d lauramartinezortiz/df-clean-final --force"
      ],
      "metadata": {
        "colab": {
          "base_uri": "https://localhost:8080/"
        },
        "id": "j7e-cYeaxt1d",
        "outputId": "fee4d287-4b9a-43cc-dfb8-4e897dc167b6"
      },
      "id": "j7e-cYeaxt1d",
      "execution_count": null,
      "outputs": [
        {
          "output_type": "stream",
          "name": "stdout",
          "text": [
            "Downloading df-clean-final.zip to /content\n",
            "\r  0% 0.00/6.67M [00:00<?, ?B/s]\r 75% 5.00M/6.67M [00:00<00:00, 37.8MB/s]\n",
            "\r100% 6.67M/6.67M [00:00<00:00, 46.4MB/s]\n"
          ]
        }
      ]
    },
    {
      "cell_type": "code",
      "source": [
        "# Descomprime el dataset\n",
        "!unzip df-clean-final.zip"
      ],
      "metadata": {
        "colab": {
          "base_uri": "https://localhost:8080/"
        },
        "id": "yCwO-hknxzVW",
        "outputId": "9621f30c-214c-43c5-e9c2-f63ed749a2dd"
      },
      "id": "yCwO-hknxzVW",
      "execution_count": null,
      "outputs": [
        {
          "output_type": "stream",
          "name": "stdout",
          "text": [
            "Archive:  df-clean-final.zip\n",
            "  inflating: df_clean.csv            \n"
          ]
        }
      ]
    },
    {
      "cell_type": "code",
      "source": [
        "df_clean_final = pd.read_csv('/content/df_clean.csv')"
      ],
      "metadata": {
        "id": "JXlEaOOMx6z2"
      },
      "id": "JXlEaOOMx6z2",
      "execution_count": null,
      "outputs": []
    },
    {
      "cell_type": "code",
      "source": [
        "df_clean_final.isna().sum()"
      ],
      "metadata": {
        "colab": {
          "base_uri": "https://localhost:8080/"
        },
        "id": "1Fnva30ByZ6E",
        "outputId": "3e7a9c72-6685-4c7f-e4ea-dac7fd8b29fb"
      },
      "id": "1Fnva30ByZ6E",
      "execution_count": null,
      "outputs": [
        {
          "output_type": "execute_result",
          "data": {
            "text/plain": [
              "start_date        0\n",
              "end_date          0\n",
              "created_on        0\n",
              "departments       0\n",
              "bedrooms          0\n",
              "bathrooms         0\n",
              "price             0\n",
              "property_type     0\n",
              "operation_type    0\n",
              "city              0\n",
              "dtype: int64"
            ]
          },
          "metadata": {},
          "execution_count": 15
        }
      ]
    },
    {
      "cell_type": "code",
      "source": [
        "df_clean_final.shape"
      ],
      "metadata": {
        "colab": {
          "base_uri": "https://localhost:8080/"
        },
        "id": "bwDJogYb78-G",
        "outputId": "87ca1339-903e-434f-9259-5a7991c7331b"
      },
      "id": "bwDJogYb78-G",
      "execution_count": null,
      "outputs": [
        {
          "output_type": "execute_result",
          "data": {
            "text/plain": [
              "(737345, 11)"
            ]
          },
          "metadata": {},
          "execution_count": 192
        }
      ]
    },
    {
      "cell_type": "code",
      "source": [
        "df_clean_final = df_clean_final.drop(columns=['Unnamed: 0'])"
      ],
      "metadata": {
        "id": "2YR3j3kj7GWT"
      },
      "id": "2YR3j3kj7GWT",
      "execution_count": null,
      "outputs": []
    },
    {
      "cell_type": "markdown",
      "metadata": {
        "id": "jrPlvcBH1JvR"
      },
      "source": [
        "# **Modelado**\n",
        "\n",
        "---\n",
        "## **Modelos seleccionados:**\n",
        "\n",
        "**1.** Random Forest\n",
        "\n",
        "**2.** Gradient Boosting Machine\n",
        "\n",
        "## **Medidas de evaluación**\n",
        "- Desempeño de la predicción\n",
        "- Tiempo de aprendizaje o de predicción\n",
        "\n",
        "## **Métricas**\n",
        "- Mean Square Error (MSE)\n",
        "- Root Mean Squared Error (RMSE)\n",
        "- R-squared (R²) or Coefficient of Determination\n",
        "\n"
      ],
      "id": "jrPlvcBH1JvR"
    }
  ],
  "metadata": {
    "accelerator": "TPU",
    "colab": {
      "collapsed_sections": [
        "rLjOhNckglIP",
        "YbaJY6fdunup",
        "XjPzbc_buqzm",
        "579d62d1",
        "Sfkp-BPOY-BO"
      ],
      "provenance": []
    },
    "gpuClass": "standard",
    "kernelspec": {
      "display_name": "Python 3 (ipykernel)",
      "language": "python",
      "name": "python3"
    },
    "language_info": {
      "codemirror_mode": {
        "name": "ipython",
        "version": 3
      },
      "file_extension": ".py",
      "mimetype": "text/x-python",
      "name": "python",
      "nbconvert_exporter": "python",
      "pygments_lexer": "ipython3",
      "version": "3.9.13"
    }
  },
  "nbformat": 4,
  "nbformat_minor": 5
}